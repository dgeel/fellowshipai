{
 "cells": [
  {
   "cell_type": "markdown",
   "metadata": {},
   "source": [
    "# Book-Crossing Recommendation System\n",
    "\n",
    "**Fellowship AI challenge**  \n",
    "*Tom McKenzie*  \n",
    "*July 2018*  \n",
    "\n",
    "**Aim:** The aim of this project is to build a recommendation engine using the dataset(s) from **Book-Crossing**, which includes user reviews."
   ]
  },
  {
   "cell_type": "code",
   "execution_count": 1,
   "metadata": {},
   "outputs": [],
   "source": [
    "import pandas as pd\n",
    "import numpy as np\n",
    "import matplotlib.pyplot as plt\n",
    "import pickle\n",
    "plt.style.use('seaborn-white') # Use seaborn-style plots\n",
    "plt.rcParams.update({'font.size': 20}) # Set larger default plot font size\n",
    "%matplotlib inline"
   ]
  },
  {
   "cell_type": "markdown",
   "metadata": {},
   "source": [
    "## Import the dataset"
   ]
  },
  {
   "cell_type": "code",
   "execution_count": 2,
   "metadata": {},
   "outputs": [
    {
     "name": "stderr",
     "output_type": "stream",
     "text": [
      "/Library/Frameworks/Python.framework/Versions/3.6/lib/python3.6/site-packages/IPython/core/interactiveshell.py:2728: DtypeWarning: Columns (3) have mixed types. Specify dtype option on import or set low_memory=False.\n",
      "  interactivity=interactivity, compiler=compiler, result=result)\n"
     ]
    }
   ],
   "source": [
    "# The dataset is comprised of three separate tables: BX-Users, BX-Books, and BX-Book-Ratings.\n",
    "# Each is separated by semi-colons, and the first row contains the column headers.\n",
    "users = pd.read_csv('book_crossing_dataset/BX-Users.csv', sep=';')\n",
    "books = pd.read_csv('book_crossing_dataset/BX-Books.csv', sep=';')\n",
    "book_ratings = pd.read_csv('book_crossing_dataset/BX-Book-Ratings.csv', sep=';')"
   ]
  },
  {
   "cell_type": "markdown",
   "metadata": {},
   "source": [
    "**Note:** The 'BX-Books' csv had multiple cases of semi-colons in the book titles which were manually cleaned to ensure proper dataframe importing. Mostly were changed to colons or commas. Also, the symbol '&amp;' appeared a lot (presumably an ampersand character), which was changed to just '&amp'."
   ]
  },
  {
   "cell_type": "code",
   "execution_count": 3,
   "metadata": {},
   "outputs": [
    {
     "data": {
      "text/html": [
       "<div>\n",
       "<style scoped>\n",
       "    .dataframe tbody tr th:only-of-type {\n",
       "        vertical-align: middle;\n",
       "    }\n",
       "\n",
       "    .dataframe tbody tr th {\n",
       "        vertical-align: top;\n",
       "    }\n",
       "\n",
       "    .dataframe thead th {\n",
       "        text-align: right;\n",
       "    }\n",
       "</style>\n",
       "<table border=\"1\" class=\"dataframe\">\n",
       "  <thead>\n",
       "    <tr style=\"text-align: right;\">\n",
       "      <th></th>\n",
       "      <th>User-ID</th>\n",
       "      <th>Location</th>\n",
       "      <th>Age</th>\n",
       "    </tr>\n",
       "  </thead>\n",
       "  <tbody>\n",
       "    <tr>\n",
       "      <th>0</th>\n",
       "      <td>1</td>\n",
       "      <td>nyc, new york, usa</td>\n",
       "      <td>NaN</td>\n",
       "    </tr>\n",
       "    <tr>\n",
       "      <th>1</th>\n",
       "      <td>2</td>\n",
       "      <td>stockton, california, usa</td>\n",
       "      <td>18.0</td>\n",
       "    </tr>\n",
       "    <tr>\n",
       "      <th>2</th>\n",
       "      <td>3</td>\n",
       "      <td>moscow, yukon territory, russia</td>\n",
       "      <td>NaN</td>\n",
       "    </tr>\n",
       "    <tr>\n",
       "      <th>3</th>\n",
       "      <td>4</td>\n",
       "      <td>porto, v.n.gaia, portugal</td>\n",
       "      <td>17.0</td>\n",
       "    </tr>\n",
       "    <tr>\n",
       "      <th>4</th>\n",
       "      <td>5</td>\n",
       "      <td>farnborough, hants, united kingdom</td>\n",
       "      <td>NaN</td>\n",
       "    </tr>\n",
       "  </tbody>\n",
       "</table>\n",
       "</div>"
      ],
      "text/plain": [
       "   User-ID                            Location   Age\n",
       "0        1                  nyc, new york, usa   NaN\n",
       "1        2           stockton, california, usa  18.0\n",
       "2        3     moscow, yukon territory, russia   NaN\n",
       "3        4           porto, v.n.gaia, portugal  17.0\n",
       "4        5  farnborough, hants, united kingdom   NaN"
      ]
     },
     "execution_count": 3,
     "metadata": {},
     "output_type": "execute_result"
    }
   ],
   "source": [
    "users.head()"
   ]
  },
  {
   "cell_type": "code",
   "execution_count": 4,
   "metadata": {},
   "outputs": [
    {
     "data": {
      "text/html": [
       "<div>\n",
       "<style scoped>\n",
       "    .dataframe tbody tr th:only-of-type {\n",
       "        vertical-align: middle;\n",
       "    }\n",
       "\n",
       "    .dataframe tbody tr th {\n",
       "        vertical-align: top;\n",
       "    }\n",
       "\n",
       "    .dataframe thead th {\n",
       "        text-align: right;\n",
       "    }\n",
       "</style>\n",
       "<table border=\"1\" class=\"dataframe\">\n",
       "  <thead>\n",
       "    <tr style=\"text-align: right;\">\n",
       "      <th></th>\n",
       "      <th>ISBN</th>\n",
       "      <th>Book-Title</th>\n",
       "      <th>Book-Author</th>\n",
       "      <th>Year-Of-Publication</th>\n",
       "      <th>Publisher</th>\n",
       "      <th>Image-URL-S</th>\n",
       "      <th>Image-URL-M</th>\n",
       "      <th>Image-URL-L</th>\n",
       "    </tr>\n",
       "  </thead>\n",
       "  <tbody>\n",
       "    <tr>\n",
       "      <th>0</th>\n",
       "      <td>0195153448</td>\n",
       "      <td>Classical Mythology</td>\n",
       "      <td>Mark P. O. Morford</td>\n",
       "      <td>2002</td>\n",
       "      <td>Oxford University Press</td>\n",
       "      <td>http://images.amazon.com/images/P/0195153448.0...</td>\n",
       "      <td>http://images.amazon.com/images/P/0195153448.0...</td>\n",
       "      <td>http://images.amazon.com/images/P/0195153448.0...</td>\n",
       "    </tr>\n",
       "    <tr>\n",
       "      <th>1</th>\n",
       "      <td>0002005018</td>\n",
       "      <td>Clara Callan</td>\n",
       "      <td>Richard Bruce Wright</td>\n",
       "      <td>2001</td>\n",
       "      <td>HarperFlamingo Canada</td>\n",
       "      <td>http://images.amazon.com/images/P/0002005018.0...</td>\n",
       "      <td>http://images.amazon.com/images/P/0002005018.0...</td>\n",
       "      <td>http://images.amazon.com/images/P/0002005018.0...</td>\n",
       "    </tr>\n",
       "    <tr>\n",
       "      <th>2</th>\n",
       "      <td>0060973129</td>\n",
       "      <td>Decision in Normandy</td>\n",
       "      <td>Carlo D'Este</td>\n",
       "      <td>1991</td>\n",
       "      <td>HarperPerennial</td>\n",
       "      <td>http://images.amazon.com/images/P/0060973129.0...</td>\n",
       "      <td>http://images.amazon.com/images/P/0060973129.0...</td>\n",
       "      <td>http://images.amazon.com/images/P/0060973129.0...</td>\n",
       "    </tr>\n",
       "    <tr>\n",
       "      <th>3</th>\n",
       "      <td>0374157065</td>\n",
       "      <td>Flu: The Story of the Great Influenza Pandemic...</td>\n",
       "      <td>Gina Bari Kolata</td>\n",
       "      <td>1999</td>\n",
       "      <td>Farrar Straus Giroux</td>\n",
       "      <td>http://images.amazon.com/images/P/0374157065.0...</td>\n",
       "      <td>http://images.amazon.com/images/P/0374157065.0...</td>\n",
       "      <td>http://images.amazon.com/images/P/0374157065.0...</td>\n",
       "    </tr>\n",
       "    <tr>\n",
       "      <th>4</th>\n",
       "      <td>0393045218</td>\n",
       "      <td>The Mummies of Urumchi</td>\n",
       "      <td>E. J. W. Barber</td>\n",
       "      <td>1999</td>\n",
       "      <td>W. W. Norton &amp;amp Company</td>\n",
       "      <td>http://images.amazon.com/images/P/0393045218.0...</td>\n",
       "      <td>http://images.amazon.com/images/P/0393045218.0...</td>\n",
       "      <td>http://images.amazon.com/images/P/0393045218.0...</td>\n",
       "    </tr>\n",
       "  </tbody>\n",
       "</table>\n",
       "</div>"
      ],
      "text/plain": [
       "         ISBN                                         Book-Title  \\\n",
       "0  0195153448                                Classical Mythology   \n",
       "1  0002005018                                       Clara Callan   \n",
       "2  0060973129                               Decision in Normandy   \n",
       "3  0374157065  Flu: The Story of the Great Influenza Pandemic...   \n",
       "4  0393045218                             The Mummies of Urumchi   \n",
       "\n",
       "            Book-Author Year-Of-Publication                  Publisher  \\\n",
       "0    Mark P. O. Morford                2002    Oxford University Press   \n",
       "1  Richard Bruce Wright                2001      HarperFlamingo Canada   \n",
       "2          Carlo D'Este                1991            HarperPerennial   \n",
       "3      Gina Bari Kolata                1999       Farrar Straus Giroux   \n",
       "4       E. J. W. Barber                1999  W. W. Norton &amp Company   \n",
       "\n",
       "                                         Image-URL-S  \\\n",
       "0  http://images.amazon.com/images/P/0195153448.0...   \n",
       "1  http://images.amazon.com/images/P/0002005018.0...   \n",
       "2  http://images.amazon.com/images/P/0060973129.0...   \n",
       "3  http://images.amazon.com/images/P/0374157065.0...   \n",
       "4  http://images.amazon.com/images/P/0393045218.0...   \n",
       "\n",
       "                                         Image-URL-M  \\\n",
       "0  http://images.amazon.com/images/P/0195153448.0...   \n",
       "1  http://images.amazon.com/images/P/0002005018.0...   \n",
       "2  http://images.amazon.com/images/P/0060973129.0...   \n",
       "3  http://images.amazon.com/images/P/0374157065.0...   \n",
       "4  http://images.amazon.com/images/P/0393045218.0...   \n",
       "\n",
       "                                         Image-URL-L  \n",
       "0  http://images.amazon.com/images/P/0195153448.0...  \n",
       "1  http://images.amazon.com/images/P/0002005018.0...  \n",
       "2  http://images.amazon.com/images/P/0060973129.0...  \n",
       "3  http://images.amazon.com/images/P/0374157065.0...  \n",
       "4  http://images.amazon.com/images/P/0393045218.0...  "
      ]
     },
     "execution_count": 4,
     "metadata": {},
     "output_type": "execute_result"
    }
   ],
   "source": [
    "books.head()"
   ]
  },
  {
   "cell_type": "code",
   "execution_count": 5,
   "metadata": {},
   "outputs": [
    {
     "data": {
      "text/html": [
       "<div>\n",
       "<style scoped>\n",
       "    .dataframe tbody tr th:only-of-type {\n",
       "        vertical-align: middle;\n",
       "    }\n",
       "\n",
       "    .dataframe tbody tr th {\n",
       "        vertical-align: top;\n",
       "    }\n",
       "\n",
       "    .dataframe thead th {\n",
       "        text-align: right;\n",
       "    }\n",
       "</style>\n",
       "<table border=\"1\" class=\"dataframe\">\n",
       "  <thead>\n",
       "    <tr style=\"text-align: right;\">\n",
       "      <th></th>\n",
       "      <th>User-ID</th>\n",
       "      <th>ISBN</th>\n",
       "      <th>Book-Rating</th>\n",
       "    </tr>\n",
       "  </thead>\n",
       "  <tbody>\n",
       "    <tr>\n",
       "      <th>0</th>\n",
       "      <td>276725</td>\n",
       "      <td>034545104X</td>\n",
       "      <td>0</td>\n",
       "    </tr>\n",
       "    <tr>\n",
       "      <th>1</th>\n",
       "      <td>276726</td>\n",
       "      <td>0155061224</td>\n",
       "      <td>5</td>\n",
       "    </tr>\n",
       "    <tr>\n",
       "      <th>2</th>\n",
       "      <td>276727</td>\n",
       "      <td>0446520802</td>\n",
       "      <td>0</td>\n",
       "    </tr>\n",
       "    <tr>\n",
       "      <th>3</th>\n",
       "      <td>276729</td>\n",
       "      <td>052165615X</td>\n",
       "      <td>3</td>\n",
       "    </tr>\n",
       "    <tr>\n",
       "      <th>4</th>\n",
       "      <td>276729</td>\n",
       "      <td>0521795028</td>\n",
       "      <td>6</td>\n",
       "    </tr>\n",
       "  </tbody>\n",
       "</table>\n",
       "</div>"
      ],
      "text/plain": [
       "   User-ID        ISBN  Book-Rating\n",
       "0   276725  034545104X            0\n",
       "1   276726  0155061224            5\n",
       "2   276727  0446520802            0\n",
       "3   276729  052165615X            3\n",
       "4   276729  0521795028            6"
      ]
     },
     "execution_count": 5,
     "metadata": {},
     "output_type": "execute_result"
    }
   ],
   "source": [
    "book_ratings.head()"
   ]
  },
  {
   "cell_type": "code",
   "execution_count": 6,
   "metadata": {},
   "outputs": [
    {
     "name": "stdout",
     "output_type": "stream",
     "text": [
      "Users: 278858\n",
      "Books: 271379\n",
      "Ratings: 1149780\n"
     ]
    }
   ],
   "source": [
    "print(f'Users: {len(users)}\\nBooks: {len(books)}\\nRatings: {len(book_ratings)}')"
   ]
  },
  {
   "cell_type": "markdown",
   "metadata": {},
   "source": [
    "## Investigate the 'users' dataframe"
   ]
  },
  {
   "cell_type": "markdown",
   "metadata": {},
   "source": [
    "First, let's tidy up the column names."
   ]
  },
  {
   "cell_type": "code",
   "execution_count": 7,
   "metadata": {},
   "outputs": [
    {
     "data": {
      "text/html": [
       "<div>\n",
       "<style scoped>\n",
       "    .dataframe tbody tr th:only-of-type {\n",
       "        vertical-align: middle;\n",
       "    }\n",
       "\n",
       "    .dataframe tbody tr th {\n",
       "        vertical-align: top;\n",
       "    }\n",
       "\n",
       "    .dataframe thead th {\n",
       "        text-align: right;\n",
       "    }\n",
       "</style>\n",
       "<table border=\"1\" class=\"dataframe\">\n",
       "  <thead>\n",
       "    <tr style=\"text-align: right;\">\n",
       "      <th></th>\n",
       "      <th>user_id</th>\n",
       "      <th>location</th>\n",
       "      <th>age</th>\n",
       "    </tr>\n",
       "  </thead>\n",
       "  <tbody>\n",
       "    <tr>\n",
       "      <th>0</th>\n",
       "      <td>1</td>\n",
       "      <td>nyc, new york, usa</td>\n",
       "      <td>NaN</td>\n",
       "    </tr>\n",
       "    <tr>\n",
       "      <th>1</th>\n",
       "      <td>2</td>\n",
       "      <td>stockton, california, usa</td>\n",
       "      <td>18.0</td>\n",
       "    </tr>\n",
       "    <tr>\n",
       "      <th>2</th>\n",
       "      <td>3</td>\n",
       "      <td>moscow, yukon territory, russia</td>\n",
       "      <td>NaN</td>\n",
       "    </tr>\n",
       "    <tr>\n",
       "      <th>3</th>\n",
       "      <td>4</td>\n",
       "      <td>porto, v.n.gaia, portugal</td>\n",
       "      <td>17.0</td>\n",
       "    </tr>\n",
       "    <tr>\n",
       "      <th>4</th>\n",
       "      <td>5</td>\n",
       "      <td>farnborough, hants, united kingdom</td>\n",
       "      <td>NaN</td>\n",
       "    </tr>\n",
       "  </tbody>\n",
       "</table>\n",
       "</div>"
      ],
      "text/plain": [
       "   user_id                            location   age\n",
       "0        1                  nyc, new york, usa   NaN\n",
       "1        2           stockton, california, usa  18.0\n",
       "2        3     moscow, yukon territory, russia   NaN\n",
       "3        4           porto, v.n.gaia, portugal  17.0\n",
       "4        5  farnborough, hants, united kingdom   NaN"
      ]
     },
     "execution_count": 7,
     "metadata": {},
     "output_type": "execute_result"
    }
   ],
   "source": [
    "users.columns = users.columns.str.strip().str.lower().str.replace('-', '_')\n",
    "users.head()"
   ]
  },
  {
   "cell_type": "code",
   "execution_count": 8,
   "metadata": {},
   "outputs": [
    {
     "data": {
      "text/plain": [
       "user_id       int64\n",
       "location     object\n",
       "age         float64\n",
       "dtype: object"
      ]
     },
     "execution_count": 8,
     "metadata": {},
     "output_type": "execute_result"
    }
   ],
   "source": [
    "users.dtypes"
   ]
  },
  {
   "cell_type": "code",
   "execution_count": 9,
   "metadata": {},
   "outputs": [
    {
     "name": "stdout",
     "output_type": "stream",
     "text": [
      "No. of unique user_id entries: 278858 | Total user_id entries: 278858\n"
     ]
    }
   ],
   "source": [
    "uniq_users = users.user_id.nunique()\n",
    "all_users = users.user_id.count()\n",
    "print(f'No. of unique user_id entries: {uniq_users} | Total user_id entries: {all_users}')"
   ]
  },
  {
   "cell_type": "markdown",
   "metadata": {},
   "source": [
    "The 'User-ID' field is integers, 'Location' are strings', and the 'Age' values are floats.\n",
    "\n",
    "We can probably change the ages to ints. Let's take a look at the values first."
   ]
  },
  {
   "cell_type": "code",
   "execution_count": 10,
   "metadata": {},
   "outputs": [
    {
     "name": "stdout",
     "output_type": "stream",
     "text": [
      "[nan, 0.0, 1.0, 2.0, 3.0, 4.0, 5.0, 6.0, 7.0, 8.0, 9.0, 10.0, 11.0, 12.0, 13.0, 14.0, 15.0, 16.0, 17.0, 18.0, 19.0, 20.0, 21.0, 22.0, 23.0, 24.0, 25.0, 26.0, 27.0, 28.0, 29.0, 30.0, 31.0, 32.0, 33.0, 34.0, 35.0, 36.0, 37.0, 38.0, 39.0, 40.0, 41.0, 42.0, 43.0, 44.0, 45.0, 46.0, 47.0, 48.0, 49.0, 50.0, 51.0, 52.0, 53.0, 54.0, 55.0, 56.0, 57.0, 58.0, 59.0, 60.0, 61.0, 62.0, 63.0, 64.0, 65.0, 66.0, 67.0, 68.0, 69.0, 70.0, 71.0, 72.0, 73.0, 74.0, 75.0, 76.0, 77.0, 78.0, 79.0, 80.0, 81.0, 82.0, 83.0, 84.0, 85.0, 86.0, 87.0, 88.0, 89.0, 90.0, 91.0, 92.0, 93.0, 94.0, 95.0, 96.0, 97.0, 98.0, 99.0, 100.0, 101.0, 102.0, 103.0, 104.0, 105.0, 106.0, 107.0, 108.0, 109.0, 110.0, 111.0, 113.0, 114.0, 115.0, 116.0, 118.0, 119.0, 123.0, 124.0, 127.0, 128.0, 132.0, 133.0, 136.0, 137.0, 138.0, 140.0, 141.0, 143.0, 146.0, 147.0, 148.0, 151.0, 152.0, 156.0, 157.0, 159.0, 162.0, 168.0, 172.0, 175.0, 183.0, 186.0, 189.0, 199.0, 200.0, 201.0, 204.0, 207.0, 208.0, 209.0, 210.0, 212.0, 219.0, 220.0, 223.0, 226.0, 228.0, 229.0, 230.0, 231.0, 237.0, 239.0, 244.0]\n"
     ]
    }
   ],
   "source": [
    "print(sorted(users.age.unique()))"
   ]
  },
  {
   "cell_type": "markdown",
   "metadata": {},
   "source": [
    "The age range goes from 0 to 244 years old! Obviously this cannot be correct; I'll set all ages less than 5 and older than 100 to NaN to try keep them realistic."
   ]
  },
  {
   "cell_type": "code",
   "execution_count": 11,
   "metadata": {},
   "outputs": [],
   "source": [
    "users.loc[(users.age<5) | (users.age>100), 'age'] = np.nan"
   ]
  },
  {
   "cell_type": "markdown",
   "metadata": {},
   "source": [
    "The Ages are also currently floats - can probably change them to ints given they are whole years only."
   ]
  },
  {
   "cell_type": "code",
   "execution_count": 12,
   "metadata": {},
   "outputs": [
    {
     "data": {
      "text/html": [
       "<div>\n",
       "<style scoped>\n",
       "    .dataframe tbody tr th:only-of-type {\n",
       "        vertical-align: middle;\n",
       "    }\n",
       "\n",
       "    .dataframe tbody tr th {\n",
       "        vertical-align: top;\n",
       "    }\n",
       "\n",
       "    .dataframe thead th {\n",
       "        text-align: right;\n",
       "    }\n",
       "</style>\n",
       "<table border=\"1\" class=\"dataframe\">\n",
       "  <thead>\n",
       "    <tr style=\"text-align: right;\">\n",
       "      <th></th>\n",
       "      <th>user_id</th>\n",
       "      <th>location</th>\n",
       "      <th>age</th>\n",
       "    </tr>\n",
       "  </thead>\n",
       "  <tbody>\n",
       "    <tr>\n",
       "      <th>0</th>\n",
       "      <td>1</td>\n",
       "      <td>nyc, new york, usa</td>\n",
       "      <td>NaN</td>\n",
       "    </tr>\n",
       "    <tr>\n",
       "      <th>1</th>\n",
       "      <td>2</td>\n",
       "      <td>stockton, california, usa</td>\n",
       "      <td>18.0</td>\n",
       "    </tr>\n",
       "    <tr>\n",
       "      <th>2</th>\n",
       "      <td>3</td>\n",
       "      <td>moscow, yukon territory, russia</td>\n",
       "      <td>NaN</td>\n",
       "    </tr>\n",
       "    <tr>\n",
       "      <th>3</th>\n",
       "      <td>4</td>\n",
       "      <td>porto, v.n.gaia, portugal</td>\n",
       "      <td>17.0</td>\n",
       "    </tr>\n",
       "    <tr>\n",
       "      <th>4</th>\n",
       "      <td>5</td>\n",
       "      <td>farnborough, hants, united kingdom</td>\n",
       "      <td>NaN</td>\n",
       "    </tr>\n",
       "  </tbody>\n",
       "</table>\n",
       "</div>"
      ],
      "text/plain": [
       "   user_id                            location   age\n",
       "0        1                  nyc, new york, usa   NaN\n",
       "1        2           stockton, california, usa  18.0\n",
       "2        3     moscow, yukon territory, russia   NaN\n",
       "3        4           porto, v.n.gaia, portugal  17.0\n",
       "4        5  farnborough, hants, united kingdom   NaN"
      ]
     },
     "execution_count": 12,
     "metadata": {},
     "output_type": "execute_result"
    }
   ],
   "source": [
    "users.age.fillna(0, inplace=True)\n",
    "users.age = users.age.astype(int)\n",
    "users.age = users.age.replace(0, np.nan) # Change zeros back to NaNs\n",
    "users.head()"
   ]
  },
  {
   "cell_type": "markdown",
   "metadata": {},
   "source": [
    "Now let's have a look at the entire age range again."
   ]
  },
  {
   "cell_type": "code",
   "execution_count": 13,
   "metadata": {},
   "outputs": [
    {
     "name": "stdout",
     "output_type": "stream",
     "text": [
      "[nan, 5.0, 6.0, 7.0, 8.0, 9.0, 10.0, 11.0, 12.0, 13.0, 14.0, 15.0, 16.0, 17.0, 18.0, 19.0, 20.0, 21.0, 22.0, 23.0, 24.0, 25.0, 26.0, 27.0, 28.0, 29.0, 30.0, 31.0, 32.0, 33.0, 34.0, 35.0, 36.0, 37.0, 38.0, 39.0, 40.0, 41.0, 42.0, 43.0, 44.0, 45.0, 46.0, 47.0, 48.0, 49.0, 50.0, 51.0, 52.0, 53.0, 54.0, 55.0, 56.0, 57.0, 58.0, 59.0, 60.0, 61.0, 62.0, 63.0, 64.0, 65.0, 66.0, 67.0, 68.0, 69.0, 70.0, 71.0, 72.0, 73.0, 74.0, 75.0, 76.0, 77.0, 78.0, 79.0, 80.0, 81.0, 82.0, 83.0, 84.0, 85.0, 86.0, 87.0, 88.0, 89.0, 90.0, 91.0, 92.0, 93.0, 94.0, 95.0, 96.0, 97.0, 98.0, 99.0, 100.0]\n"
     ]
    }
   ],
   "source": [
    "print(sorted(users.age.unique()))"
   ]
  },
  {
   "cell_type": "markdown",
   "metadata": {},
   "source": [
    "Much better - now the ages go from 5 to 100, with missing values entered as NaN. Let's plot this to see how they are distributed."
   ]
  },
  {
   "cell_type": "code",
   "execution_count": 14,
   "metadata": {},
   "outputs": [
    {
     "data": {
      "image/png": "[encoded data removed]",
      "text/plain": [
       "<matplotlib.figure.Figure at 0x111b30e48>"
      ]
     },
     "metadata": {},
     "output_type": "display_data"
    }
   ],
   "source": [
    "# First create a histogram of the Age field\n",
    "ax = users.age.hist(bins=10, figsize=(12,5))\n",
    "ax.set_xlabel('Age')\n",
    "ax.set_ylabel('counts')\n",
    "ax.set_xticks(range(0,110,10))\n",
    "plt.show()"
   ]
  },
  {
   "cell_type": "markdown",
   "metadata": {},
   "source": [
    "Below is the same plot without any binning - i.e. each age is represented individually."
   ]
  },
  {
   "cell_type": "code",
   "execution_count": 15,
   "metadata": {},
   "outputs": [
    {
     "data": {
      "image/png": "[encoded data removed]",
      "text/plain": [
       "<matplotlib.figure.Figure at 0x11247ccc0>"
      ]
     },
     "metadata": {},
     "output_type": "display_data"
    }
   ],
   "source": [
    "u = users.age.value_counts().sort_index()\n",
    "plt.figure(figsize=(20, 10))\n",
    "plt.rcParams.update({'font.size': 20}) # Set larger plot font size\n",
    "plt.bar(u.index, u.values)\n",
    "plt.xlabel('Age')\n",
    "plt.ylabel('counts')\n",
    "plt.show()"
   ]
  },
  {
   "cell_type": "markdown",
   "metadata": {},
   "source": [
    "That is more clear to me! It seems that most of our reviewers are in their late 20s to early 30s.\n",
    "\n",
    "How many missing Age's do we now have in the dataset?"
   ]
  },
  {
   "cell_type": "code",
   "execution_count": 16,
   "metadata": {},
   "outputs": [
    {
     "name": "stdout",
     "output_type": "stream",
     "text": [
      "There are also 112010 empty age values in our set of 278858 users (or 40.17%).\n"
     ]
    }
   ],
   "source": [
    "age_null = users.age.isnull().sum() # Sums up the 1's returned by the isnull() mask\n",
    "all_users = users.user_id.count() # Counts the number of cells in the series - excludes NaNs!\n",
    "print(f'There are also {age_null} empty age values in our set of {all_users} users (or {(age_null/all_users)*100:.2f}%).')"
   ]
  },
  {
   "cell_type": "markdown",
   "metadata": {},
   "source": [
    "Next, can we expand the 'Location' field to break it up into 'City', 'State', and 'Country'."
   ]
  },
  {
   "cell_type": "code",
   "execution_count": 17,
   "metadata": {},
   "outputs": [],
   "source": [
    "# Note: Used Pandas Series.str.split method as it has an 'expand' parameter which can handle None cases\n",
    "user_location_expanded = users.location.str.split(',', 2, expand=True)\n",
    "user_location_expanded.columns = ['city', 'state', 'country']\n",
    "users = users.join(user_location_expanded)"
   ]
  },
  {
   "cell_type": "code",
   "execution_count": 18,
   "metadata": {},
   "outputs": [
    {
     "data": {
      "text/html": [
       "<div>\n",
       "<style scoped>\n",
       "    .dataframe tbody tr th:only-of-type {\n",
       "        vertical-align: middle;\n",
       "    }\n",
       "\n",
       "    .dataframe tbody tr th {\n",
       "        vertical-align: top;\n",
       "    }\n",
       "\n",
       "    .dataframe thead th {\n",
       "        text-align: right;\n",
       "    }\n",
       "</style>\n",
       "<table border=\"1\" class=\"dataframe\">\n",
       "  <thead>\n",
       "    <tr style=\"text-align: right;\">\n",
       "      <th></th>\n",
       "      <th>user_id</th>\n",
       "      <th>age</th>\n",
       "      <th>city</th>\n",
       "      <th>state</th>\n",
       "      <th>country</th>\n",
       "    </tr>\n",
       "  </thead>\n",
       "  <tbody>\n",
       "    <tr>\n",
       "      <th>0</th>\n",
       "      <td>1</td>\n",
       "      <td>NaN</td>\n",
       "      <td>nyc</td>\n",
       "      <td>new york</td>\n",
       "      <td>usa</td>\n",
       "    </tr>\n",
       "    <tr>\n",
       "      <th>1</th>\n",
       "      <td>2</td>\n",
       "      <td>18.0</td>\n",
       "      <td>stockton</td>\n",
       "      <td>california</td>\n",
       "      <td>usa</td>\n",
       "    </tr>\n",
       "    <tr>\n",
       "      <th>2</th>\n",
       "      <td>3</td>\n",
       "      <td>NaN</td>\n",
       "      <td>moscow</td>\n",
       "      <td>yukon territory</td>\n",
       "      <td>russia</td>\n",
       "    </tr>\n",
       "    <tr>\n",
       "      <th>3</th>\n",
       "      <td>4</td>\n",
       "      <td>17.0</td>\n",
       "      <td>porto</td>\n",
       "      <td>v.n.gaia</td>\n",
       "      <td>portugal</td>\n",
       "    </tr>\n",
       "    <tr>\n",
       "      <th>4</th>\n",
       "      <td>5</td>\n",
       "      <td>NaN</td>\n",
       "      <td>farnborough</td>\n",
       "      <td>hants</td>\n",
       "      <td>united kingdom</td>\n",
       "    </tr>\n",
       "  </tbody>\n",
       "</table>\n",
       "</div>"
      ],
      "text/plain": [
       "   user_id   age         city             state          country\n",
       "0        1   NaN          nyc          new york              usa\n",
       "1        2  18.0     stockton        california              usa\n",
       "2        3   NaN       moscow   yukon territory           russia\n",
       "3        4  17.0        porto          v.n.gaia         portugal\n",
       "4        5   NaN  farnborough             hants   united kingdom"
      ]
     },
     "execution_count": 18,
     "metadata": {},
     "output_type": "execute_result"
    }
   ],
   "source": [
    "users.drop(columns=['location'], inplace=True)\n",
    "users.head()"
   ]
  },
  {
   "cell_type": "markdown",
   "metadata": {},
   "source": [
    "Let's take a quick look at these Location-derived fields."
   ]
  },
  {
   "cell_type": "code",
   "execution_count": 19,
   "metadata": {},
   "outputs": [
    {
     "name": "stdout",
     "output_type": "stream",
     "text": [
      "The 10 cities with the most users are:\n",
      "london       4105\n",
      "barcelona    2664\n",
      "toronto      2342\n",
      "madrid       1933\n",
      "sydney       1884\n",
      "portland     1869\n",
      "melbourne    1863\n",
      "vancouver    1699\n",
      "chicago      1566\n",
      "seattle      1541\n",
      "Name: city, dtype: int64\n"
     ]
    }
   ],
   "source": [
    "top_cities = users.city.value_counts()[:10]\n",
    "print(f'The 10 cities with the most users are:\\n{top_cities}')"
   ]
  },
  {
   "cell_type": "code",
   "execution_count": 20,
   "metadata": {},
   "outputs": [
    {
     "name": "stdout",
     "output_type": "stream",
     "text": [
      "The 10 countries with the most users are:\n",
      " usa               139183\n",
      " canada             21556\n",
      " united kingdom     18286\n",
      " germany            17021\n",
      " spain              13088\n",
      " australia          11719\n",
      " italy              11238\n",
      "                     4561\n",
      " france              3440\n",
      " portugal            3305\n",
      "Name: country, dtype: int64\n"
     ]
    }
   ],
   "source": [
    "top_countries = users.country.value_counts()[:10]\n",
    "print(f'The 10 countries with the most users are:\\n{top_countries}')"
   ]
  },
  {
   "cell_type": "markdown",
   "metadata": {},
   "source": [
    "It looks like an empty 'Country' field is in the top 10 most common entries! "
   ]
  },
  {
   "cell_type": "code",
   "execution_count": 21,
   "metadata": {},
   "outputs": [
    {
     "name": "stdout",
     "output_type": "stream",
     "text": [
      "There are 4561 entries with empty strings, and 2 NaN entries in the Country field\n"
     ]
    }
   ],
   "source": [
    "empty_string_country = users[users.country == ''].country.count()\n",
    "nan_country = users.country.isnull().sum()\n",
    "print(f'There are {empty_string_country} entries with empty strings, and {nan_country} NaN entries in the Country field')"
   ]
  },
  {
   "cell_type": "markdown",
   "metadata": {},
   "source": [
    "We should probably change these empty strings to NaNs."
   ]
  },
  {
   "cell_type": "code",
   "execution_count": 22,
   "metadata": {},
   "outputs": [],
   "source": [
    "users.country.replace('', np.nan, inplace=True)"
   ]
  },
  {
   "cell_type": "markdown",
   "metadata": {},
   "source": [
    "**Might want to filter out invalid Location-based entries by looking at the city/state/country entries that only occur a few times (maybe <3), however this will be just left as is at the moment. I'll re-visit this idea more thoroughly if I end up using Location in the modeling**"
   ]
  },
  {
   "cell_type": "markdown",
   "metadata": {},
   "source": [
    "## Investigate the 'books' dataframe"
   ]
  },
  {
   "cell_type": "code",
   "execution_count": 23,
   "metadata": {},
   "outputs": [
    {
     "data": {
      "text/html": [
       "<div>\n",
       "<style scoped>\n",
       "    .dataframe tbody tr th:only-of-type {\n",
       "        vertical-align: middle;\n",
       "    }\n",
       "\n",
       "    .dataframe tbody tr th {\n",
       "        vertical-align: top;\n",
       "    }\n",
       "\n",
       "    .dataframe thead th {\n",
       "        text-align: right;\n",
       "    }\n",
       "</style>\n",
       "<table border=\"1\" class=\"dataframe\">\n",
       "  <thead>\n",
       "    <tr style=\"text-align: right;\">\n",
       "      <th></th>\n",
       "      <th>ISBN</th>\n",
       "      <th>Book-Title</th>\n",
       "      <th>Book-Author</th>\n",
       "      <th>Year-Of-Publication</th>\n",
       "      <th>Publisher</th>\n",
       "      <th>Image-URL-S</th>\n",
       "      <th>Image-URL-M</th>\n",
       "      <th>Image-URL-L</th>\n",
       "    </tr>\n",
       "  </thead>\n",
       "  <tbody>\n",
       "    <tr>\n",
       "      <th>0</th>\n",
       "      <td>0195153448</td>\n",
       "      <td>Classical Mythology</td>\n",
       "      <td>Mark P. O. Morford</td>\n",
       "      <td>2002</td>\n",
       "      <td>Oxford University Press</td>\n",
       "      <td>http://images.amazon.com/images/P/0195153448.0...</td>\n",
       "      <td>http://images.amazon.com/images/P/0195153448.0...</td>\n",
       "      <td>http://images.amazon.com/images/P/0195153448.0...</td>\n",
       "    </tr>\n",
       "    <tr>\n",
       "      <th>1</th>\n",
       "      <td>0002005018</td>\n",
       "      <td>Clara Callan</td>\n",
       "      <td>Richard Bruce Wright</td>\n",
       "      <td>2001</td>\n",
       "      <td>HarperFlamingo Canada</td>\n",
       "      <td>http://images.amazon.com/images/P/0002005018.0...</td>\n",
       "      <td>http://images.amazon.com/images/P/0002005018.0...</td>\n",
       "      <td>http://images.amazon.com/images/P/0002005018.0...</td>\n",
       "    </tr>\n",
       "    <tr>\n",
       "      <th>2</th>\n",
       "      <td>0060973129</td>\n",
       "      <td>Decision in Normandy</td>\n",
       "      <td>Carlo D'Este</td>\n",
       "      <td>1991</td>\n",
       "      <td>HarperPerennial</td>\n",
       "      <td>http://images.amazon.com/images/P/0060973129.0...</td>\n",
       "      <td>http://images.amazon.com/images/P/0060973129.0...</td>\n",
       "      <td>http://images.amazon.com/images/P/0060973129.0...</td>\n",
       "    </tr>\n",
       "    <tr>\n",
       "      <th>3</th>\n",
       "      <td>0374157065</td>\n",
       "      <td>Flu: The Story of the Great Influenza Pandemic...</td>\n",
       "      <td>Gina Bari Kolata</td>\n",
       "      <td>1999</td>\n",
       "      <td>Farrar Straus Giroux</td>\n",
       "      <td>http://images.amazon.com/images/P/0374157065.0...</td>\n",
       "      <td>http://images.amazon.com/images/P/0374157065.0...</td>\n",
       "      <td>http://images.amazon.com/images/P/0374157065.0...</td>\n",
       "    </tr>\n",
       "    <tr>\n",
       "      <th>4</th>\n",
       "      <td>0393045218</td>\n",
       "      <td>The Mummies of Urumchi</td>\n",
       "      <td>E. J. W. Barber</td>\n",
       "      <td>1999</td>\n",
       "      <td>W. W. Norton &amp;amp Company</td>\n",
       "      <td>http://images.amazon.com/images/P/0393045218.0...</td>\n",
       "      <td>http://images.amazon.com/images/P/0393045218.0...</td>\n",
       "      <td>http://images.amazon.com/images/P/0393045218.0...</td>\n",
       "    </tr>\n",
       "  </tbody>\n",
       "</table>\n",
       "</div>"
      ],
      "text/plain": [
       "         ISBN                                         Book-Title  \\\n",
       "0  0195153448                                Classical Mythology   \n",
       "1  0002005018                                       Clara Callan   \n",
       "2  0060973129                               Decision in Normandy   \n",
       "3  0374157065  Flu: The Story of the Great Influenza Pandemic...   \n",
       "4  0393045218                             The Mummies of Urumchi   \n",
       "\n",
       "            Book-Author Year-Of-Publication                  Publisher  \\\n",
       "0    Mark P. O. Morford                2002    Oxford University Press   \n",
       "1  Richard Bruce Wright                2001      HarperFlamingo Canada   \n",
       "2          Carlo D'Este                1991            HarperPerennial   \n",
       "3      Gina Bari Kolata                1999       Farrar Straus Giroux   \n",
       "4       E. J. W. Barber                1999  W. W. Norton &amp Company   \n",
       "\n",
       "                                         Image-URL-S  \\\n",
       "0  http://images.amazon.com/images/P/0195153448.0...   \n",
       "1  http://images.amazon.com/images/P/0002005018.0...   \n",
       "2  http://images.amazon.com/images/P/0060973129.0...   \n",
       "3  http://images.amazon.com/images/P/0374157065.0...   \n",
       "4  http://images.amazon.com/images/P/0393045218.0...   \n",
       "\n",
       "                                         Image-URL-M  \\\n",
       "0  http://images.amazon.com/images/P/0195153448.0...   \n",
       "1  http://images.amazon.com/images/P/0002005018.0...   \n",
       "2  http://images.amazon.com/images/P/0060973129.0...   \n",
       "3  http://images.amazon.com/images/P/0374157065.0...   \n",
       "4  http://images.amazon.com/images/P/0393045218.0...   \n",
       "\n",
       "                                         Image-URL-L  \n",
       "0  http://images.amazon.com/images/P/0195153448.0...  \n",
       "1  http://images.amazon.com/images/P/0002005018.0...  \n",
       "2  http://images.amazon.com/images/P/0060973129.0...  \n",
       "3  http://images.amazon.com/images/P/0374157065.0...  \n",
       "4  http://images.amazon.com/images/P/0393045218.0...  "
      ]
     },
     "execution_count": 23,
     "metadata": {},
     "output_type": "execute_result"
    }
   ],
   "source": [
    "books.head()"
   ]
  },
  {
   "cell_type": "markdown",
   "metadata": {},
   "source": [
    "First, let's tidy up the column names. And we can probably drop the image-url link columns."
   ]
  },
  {
   "cell_type": "code",
   "execution_count": 24,
   "metadata": {},
   "outputs": [
    {
     "data": {
      "text/html": [
       "<div>\n",
       "<style scoped>\n",
       "    .dataframe tbody tr th:only-of-type {\n",
       "        vertical-align: middle;\n",
       "    }\n",
       "\n",
       "    .dataframe tbody tr th {\n",
       "        vertical-align: top;\n",
       "    }\n",
       "\n",
       "    .dataframe thead th {\n",
       "        text-align: right;\n",
       "    }\n",
       "</style>\n",
       "<table border=\"1\" class=\"dataframe\">\n",
       "  <thead>\n",
       "    <tr style=\"text-align: right;\">\n",
       "      <th></th>\n",
       "      <th>isbn</th>\n",
       "      <th>book_title</th>\n",
       "      <th>book_author</th>\n",
       "      <th>year_of_publication</th>\n",
       "      <th>publisher</th>\n",
       "    </tr>\n",
       "  </thead>\n",
       "  <tbody>\n",
       "    <tr>\n",
       "      <th>0</th>\n",
       "      <td>0195153448</td>\n",
       "      <td>Classical Mythology</td>\n",
       "      <td>Mark P. O. Morford</td>\n",
       "      <td>2002</td>\n",
       "      <td>Oxford University Press</td>\n",
       "    </tr>\n",
       "    <tr>\n",
       "      <th>1</th>\n",
       "      <td>0002005018</td>\n",
       "      <td>Clara Callan</td>\n",
       "      <td>Richard Bruce Wright</td>\n",
       "      <td>2001</td>\n",
       "      <td>HarperFlamingo Canada</td>\n",
       "    </tr>\n",
       "    <tr>\n",
       "      <th>2</th>\n",
       "      <td>0060973129</td>\n",
       "      <td>Decision in Normandy</td>\n",
       "      <td>Carlo D'Este</td>\n",
       "      <td>1991</td>\n",
       "      <td>HarperPerennial</td>\n",
       "    </tr>\n",
       "    <tr>\n",
       "      <th>3</th>\n",
       "      <td>0374157065</td>\n",
       "      <td>Flu: The Story of the Great Influenza Pandemic...</td>\n",
       "      <td>Gina Bari Kolata</td>\n",
       "      <td>1999</td>\n",
       "      <td>Farrar Straus Giroux</td>\n",
       "    </tr>\n",
       "    <tr>\n",
       "      <th>4</th>\n",
       "      <td>0393045218</td>\n",
       "      <td>The Mummies of Urumchi</td>\n",
       "      <td>E. J. W. Barber</td>\n",
       "      <td>1999</td>\n",
       "      <td>W. W. Norton &amp;amp Company</td>\n",
       "    </tr>\n",
       "  </tbody>\n",
       "</table>\n",
       "</div>"
      ],
      "text/plain": [
       "         isbn                                         book_title  \\\n",
       "0  0195153448                                Classical Mythology   \n",
       "1  0002005018                                       Clara Callan   \n",
       "2  0060973129                               Decision in Normandy   \n",
       "3  0374157065  Flu: The Story of the Great Influenza Pandemic...   \n",
       "4  0393045218                             The Mummies of Urumchi   \n",
       "\n",
       "            book_author year_of_publication                  publisher  \n",
       "0    Mark P. O. Morford                2002    Oxford University Press  \n",
       "1  Richard Bruce Wright                2001      HarperFlamingo Canada  \n",
       "2          Carlo D'Este                1991            HarperPerennial  \n",
       "3      Gina Bari Kolata                1999       Farrar Straus Giroux  \n",
       "4       E. J. W. Barber                1999  W. W. Norton &amp Company  "
      ]
     },
     "execution_count": 24,
     "metadata": {},
     "output_type": "execute_result"
    }
   ],
   "source": [
    "books.columns = books.columns.str.strip().str.lower().str.replace('-', '_') # clean column names\n",
    "books.drop(columns=['image_url_s', 'image_url_m', 'image_url_l'], inplace=True) # drop image-url columns\n",
    "books.head()"
   ]
  },
  {
   "cell_type": "markdown",
   "metadata": {},
   "source": [
    "What about the 'type' of each field? We probably want Year of Publication to be ints or floats, and the rest to be strings ('object'). **Note:** The ISBN numbers may contain some letters, so we CAN'T convert them to numeric values. Will leave as strings."
   ]
  },
  {
   "cell_type": "code",
   "execution_count": 25,
   "metadata": {},
   "outputs": [
    {
     "data": {
      "text/plain": [
       "isbn                   object\n",
       "book_title             object\n",
       "book_author            object\n",
       "year_of_publication    object\n",
       "publisher              object\n",
       "dtype: object"
      ]
     },
     "execution_count": 25,
     "metadata": {},
     "output_type": "execute_result"
    }
   ],
   "source": [
    "books.dtypes"
   ]
  },
  {
   "cell_type": "code",
   "execution_count": 26,
   "metadata": {},
   "outputs": [],
   "source": [
    "# Convert years to float\n",
    "books.year_of_publication = pd.to_numeric(books.year_of_publication, errors='coerce')"
   ]
  },
  {
   "cell_type": "code",
   "execution_count": 27,
   "metadata": {},
   "outputs": [
    {
     "name": "stdout",
     "output_type": "stream",
     "text": [
      "There are 4619 entries as '0', and 3 NaN entries in the Year of Publication field\n"
     ]
    }
   ],
   "source": [
    "# Check for 0's or NaNs in Year of Publication\n",
    "zero_yr = books[books.year_of_publication == 0].year_of_publication.count()\n",
    "nan_yr = books.year_of_publication.isnull().sum()\n",
    "print(f'There are {zero_yr} entries as \\'0\\', and {nan_yr} NaN entries in the Year of Publication field')"
   ]
  },
  {
   "cell_type": "code",
   "execution_count": 28,
   "metadata": {},
   "outputs": [],
   "source": [
    "# Replace all years of zero with NaN\n",
    "books.year_of_publication.replace(0, np.nan, inplace=True)"
   ]
  },
  {
   "cell_type": "code",
   "execution_count": 29,
   "metadata": {},
   "outputs": [
    {
     "data": {
      "image/png": "[encoded data removed]",
      "text/plain": [
       "<matplotlib.figure.Figure at 0x111b30dd8>"
      ]
     },
     "metadata": {},
     "output_type": "display_data"
    }
   ],
   "source": [
    "yr = books.year_of_publication.value_counts().sort_index()\n",
    "yr = yr.where(yr>5) # filter out counts less than 5\n",
    "plt.figure(figsize=(20, 10))\n",
    "plt.rcParams.update({'font.size': 20}) # Set larger plot font size\n",
    "plt.bar(yr.index, yr.values)\n",
    "plt.xlabel('Year of Publication')\n",
    "plt.ylabel('counts')\n",
    "plt.show()"
   ]
  },
  {
   "cell_type": "markdown",
   "metadata": {},
   "source": [
    "Note that in the plot above we filtered out counts less than 5, as there are a few books in the dataset with publication years in the 1300s, and a few in the future (?!). The plot above show the general trend that more recent books are much more frequent.\n",
    "\n",
    "Let's take a look at some of those 'outlier' books. Maybe we'll even keep them as a separate dataset so we can filter them out if we need to later in the analysis. We'll leave them in for now, and then figure out how to handle them once we have more info later on."
   ]
  },
  {
   "cell_type": "code",
   "execution_count": 30,
   "metadata": {},
   "outputs": [
    {
     "name": "stdout",
     "output_type": "stream",
     "text": [
      "Historical books:\n",
      "                                               book_title  year_of_publication\n",
      "171826  Complete Works 10 Volumes [2,6,7,8,9] (Notable...               1806.0\n",
      "227544                   Dalan-i bihisht (Dastan-i Irani)               1378.0\n",
      "245622  Hugh Wynne, Free Quaker (2 Volumes (BCL1-PS Am...               1897.0\n",
      "253767                                       Tasht-i khun               1376.0\n",
      "\n",
      "\n",
      "Future books:\n",
      "                                               book_title  year_of_publication\n",
      "30011                                          The Royals               2020.0\n",
      "37488   MY TEACHER FRIED MY BRAINS (RACK SIZE) (MY TEA...               2030.0\n",
      "55679   MY TEACHER FLUNKED THE PLANET (RACK SIZE) (MY ...               2030.0\n",
      "78171                                    Crossing America               2030.0\n",
      "80267   Alice's Adventures in Wonderland and Through t...               2050.0\n",
      "92160                     Edgar Allen Poe Collected Poems               2020.0\n",
      "97830       Outline of European Architecture (Pelican S.)               2050.0\n",
      "116058                       Three Plays of Eugene Oneill               2038.0\n",
      "118299        Das groÃ?Â?e BÃ?Â¶se- MÃ?Â¤dchen- Lesebuch.               2026.0\n",
      "183779                                              Heidi               2021.0\n",
      "193004  Field Guide to the Birds of North America, 3rd...               2030.0\n",
      "228187       FOREST PEOPLE (Touchstone Books (Hardcover))               2030.0\n",
      "238832                                LOOK HOMEWARD ANGEL               2020.0\n",
      "240184            In Our Time: Stories (Scribner Classic)               2030.0\n",
      "246858                                              CLOUT               2024.0\n",
      "255426                               To Have and Have Not               2037.0\n",
      "260992        FOOTBALL SUPER TEAMS : FOOTBALL SUPER TEAMS               2030.0\n"
     ]
    }
   ],
   "source": [
    "historical_books = books[books.year_of_publication<1900] # create df of old books\n",
    "books_from_the_future = books[books.year_of_publication>2018] # create df of books with publication yrs in the future!\n",
    "\n",
    "hist_books_mini = historical_books[['book_title', 'year_of_publication']]\n",
    "future_books_mini = books_from_the_future[['book_title', 'year_of_publication']]\n",
    "print(f'Historical books:\\n{hist_books_mini}')\n",
    "print('\\n')\n",
    "print(f'Future books:\\n{future_books_mini}')"
   ]
  },
  {
   "cell_type": "markdown",
   "metadata": {},
   "source": [
    "I think we can probably omit the 'historical_books' as they may potentially skew the model and do not seem to have much relevance to the wider userbase.\n",
    "\n",
    "Some of the 'future' books actually appear to be errors (e.g. Alice in Wonderland, Edgar Allen Poe, etc.)... Perhaps they were supposed to be e.g. 1950 instead of 2050? However, instead of investigating this further, since there are <20 books here I will simply remove them from the 'books' table."
   ]
  },
  {
   "cell_type": "code",
   "execution_count": 31,
   "metadata": {},
   "outputs": [
    {
     "name": "stdout",
     "output_type": "stream",
     "text": [
      "Length of books dataset before removal: 271379\n",
      "Length of books dataset after removal: 271358\n"
     ]
    }
   ],
   "source": [
    "print(f'Length of books dataset before removal: {len(books)}')\n",
    "books = books.loc[~(books.isbn.isin(historical_books.isbn))] # remove historical books\n",
    "books = books.loc[~(books.isbn.isin(books_from_the_future.isbn))] # remove historical books\n",
    "print(f'Length of books dataset after removal: {len(books)}')"
   ]
  },
  {
   "cell_type": "markdown",
   "metadata": {},
   "source": [
    "We clean up the ampersand formatting in the Publisher field."
   ]
  },
  {
   "cell_type": "code",
   "execution_count": 32,
   "metadata": {},
   "outputs": [
    {
     "data": {
      "text/html": [
       "<div>\n",
       "<style scoped>\n",
       "    .dataframe tbody tr th:only-of-type {\n",
       "        vertical-align: middle;\n",
       "    }\n",
       "\n",
       "    .dataframe tbody tr th {\n",
       "        vertical-align: top;\n",
       "    }\n",
       "\n",
       "    .dataframe thead th {\n",
       "        text-align: right;\n",
       "    }\n",
       "</style>\n",
       "<table border=\"1\" class=\"dataframe\">\n",
       "  <thead>\n",
       "    <tr style=\"text-align: right;\">\n",
       "      <th></th>\n",
       "      <th>isbn</th>\n",
       "      <th>book_title</th>\n",
       "      <th>book_author</th>\n",
       "      <th>year_of_publication</th>\n",
       "      <th>publisher</th>\n",
       "    </tr>\n",
       "  </thead>\n",
       "  <tbody>\n",
       "    <tr>\n",
       "      <th>0</th>\n",
       "      <td>0195153448</td>\n",
       "      <td>Classical Mythology</td>\n",
       "      <td>Mark P. O. Morford</td>\n",
       "      <td>2002.0</td>\n",
       "      <td>Oxford University Press</td>\n",
       "    </tr>\n",
       "    <tr>\n",
       "      <th>1</th>\n",
       "      <td>0002005018</td>\n",
       "      <td>Clara Callan</td>\n",
       "      <td>Richard Bruce Wright</td>\n",
       "      <td>2001.0</td>\n",
       "      <td>HarperFlamingo Canada</td>\n",
       "    </tr>\n",
       "    <tr>\n",
       "      <th>2</th>\n",
       "      <td>0060973129</td>\n",
       "      <td>Decision in Normandy</td>\n",
       "      <td>Carlo D'Este</td>\n",
       "      <td>1991.0</td>\n",
       "      <td>HarperPerennial</td>\n",
       "    </tr>\n",
       "    <tr>\n",
       "      <th>3</th>\n",
       "      <td>0374157065</td>\n",
       "      <td>Flu: The Story of the Great Influenza Pandemic...</td>\n",
       "      <td>Gina Bari Kolata</td>\n",
       "      <td>1999.0</td>\n",
       "      <td>Farrar Straus Giroux</td>\n",
       "    </tr>\n",
       "    <tr>\n",
       "      <th>4</th>\n",
       "      <td>0393045218</td>\n",
       "      <td>The Mummies of Urumchi</td>\n",
       "      <td>E. J. W. Barber</td>\n",
       "      <td>1999.0</td>\n",
       "      <td>W. W. Norton &amp; Company</td>\n",
       "    </tr>\n",
       "  </tbody>\n",
       "</table>\n",
       "</div>"
      ],
      "text/plain": [
       "         isbn                                         book_title  \\\n",
       "0  0195153448                                Classical Mythology   \n",
       "1  0002005018                                       Clara Callan   \n",
       "2  0060973129                               Decision in Normandy   \n",
       "3  0374157065  Flu: The Story of the Great Influenza Pandemic...   \n",
       "4  0393045218                             The Mummies of Urumchi   \n",
       "\n",
       "            book_author  year_of_publication                publisher  \n",
       "0    Mark P. O. Morford               2002.0  Oxford University Press  \n",
       "1  Richard Bruce Wright               2001.0    HarperFlamingo Canada  \n",
       "2          Carlo D'Este               1991.0          HarperPerennial  \n",
       "3      Gina Bari Kolata               1999.0     Farrar Straus Giroux  \n",
       "4       E. J. W. Barber               1999.0   W. W. Norton & Company  "
      ]
     },
     "execution_count": 32,
     "metadata": {},
     "output_type": "execute_result"
    }
   ],
   "source": [
    "books.publisher = books.publisher.str.replace('&amp', '&', regex=False)\n",
    "books.head()"
   ]
  },
  {
   "cell_type": "code",
   "execution_count": 33,
   "metadata": {},
   "outputs": [
    {
     "name": "stdout",
     "output_type": "stream",
     "text": [
      "No. of unique books: 271358 | All book entries: 271358\n"
     ]
    }
   ],
   "source": [
    "uniq_books = books.isbn.nunique()\n",
    "all_books = books.isbn.count()\n",
    "print(f'No. of unique books: {uniq_books} | All book entries: {all_books}')"
   ]
  },
  {
   "cell_type": "markdown",
   "metadata": {},
   "source": [
    "Let's look at the most frequent Publishing houses in the dataset."
   ]
  },
  {
   "cell_type": "code",
   "execution_count": 34,
   "metadata": {},
   "outputs": [
    {
     "name": "stdout",
     "output_type": "stream",
     "text": [
      "The 10 publishers with the most entries in the books table are:\n",
      "Harlequin                   7536\n",
      "Silhouette                  4220\n",
      "Pocket                      3905\n",
      "Ballantine Books            3783\n",
      "Bantam Books                3647\n",
      "Scholastic                  3159\n",
      "Simon & Schuster            2969\n",
      "Penguin Books               2844\n",
      "Berkley Publishing Group    2771\n",
      "Warner Books                2727\n",
      "Name: publisher, dtype: int64\n"
     ]
    }
   ],
   "source": [
    "top_publishers = books.publisher.value_counts()[:10]\n",
    "print(f'The 10 publishers with the most entries in the books table are:\\n{top_publishers}')"
   ]
  },
  {
   "cell_type": "markdown",
   "metadata": {},
   "source": [
    "What about authors with the most entries?"
   ]
  },
  {
   "cell_type": "code",
   "execution_count": 35,
   "metadata": {},
   "outputs": [
    {
     "name": "stdout",
     "output_type": "stream",
     "text": [
      "The 10 authors with the most entries in the books table are:\n",
      "Agatha Christie        632\n",
      "William Shakespeare    567\n",
      "Stephen King           524\n",
      "Ann M. Martin          423\n",
      "Carolyn Keene          373\n",
      "Francine Pascal        373\n",
      "Isaac Asimov           330\n",
      "Nora Roberts           315\n",
      "Barbara Cartland       307\n",
      "Charles Dickens        302\n",
      "Name: book_author, dtype: int64\n"
     ]
    }
   ],
   "source": [
    "top_authors = books.book_author.value_counts()[:10]\n",
    "print(f'The 10 authors with the most entries in the books table are:\\n{top_authors}')"
   ]
  },
  {
   "cell_type": "markdown",
   "metadata": {},
   "source": [
    "We should search for empty or NaN values in these fields too."
   ]
  },
  {
   "cell_type": "code",
   "execution_count": 36,
   "metadata": {},
   "outputs": [
    {
     "name": "stdout",
     "output_type": "stream",
     "text": [
      "There are 0 entries with empty strings, and 2 NaN entries in the Publisher field\n"
     ]
    }
   ],
   "source": [
    "empty_string_publisher = books[books.publisher == ''].publisher.count()\n",
    "nan_publisher = books.publisher.isnull().sum()\n",
    "print(f'There are {empty_string_publisher} entries with empty strings, and {nan_publisher} NaN entries in the Publisher field')"
   ]
  },
  {
   "cell_type": "markdown",
   "metadata": {},
   "source": [
    "Great - no empty strings in the Publisher field, and only 2 NaNs."
   ]
  },
  {
   "cell_type": "code",
   "execution_count": 37,
   "metadata": {},
   "outputs": [
    {
     "name": "stdout",
     "output_type": "stream",
     "text": [
      "There are 0 entries with empty strings, and 1 NaN entries in the Author field\n"
     ]
    }
   ],
   "source": [
    "empty_string_author = books[books.book_author == ''].book_author.count()\n",
    "nan_author = books.book_author.isnull().sum()\n",
    "print(f'There are {empty_string_author} entries with empty strings, and {nan_author} NaN entries in the Author field')"
   ]
  },
  {
   "cell_type": "markdown",
   "metadata": {},
   "source": [
    "Cool, only 1 NaN in the Author field.\n",
    "\n",
    "Let's look at the titles."
   ]
  },
  {
   "cell_type": "code",
   "execution_count": 38,
   "metadata": {},
   "outputs": [
    {
     "name": "stdout",
     "output_type": "stream",
     "text": [
      "The 10 book titles with the most entries in the books table are:\n",
      "Selected Poems                    27\n",
      "Little Women                      24\n",
      "Wuthering Heights                 21\n",
      "The Secret Garden                 20\n",
      "Dracula                           20\n",
      "Adventures of Huckleberry Finn    20\n",
      "Jane Eyre                         19\n",
      "Pride and Prejudice               18\n",
      "The Night Before Christmas        18\n",
      "Great Expectations                17\n",
      "Name: book_title, dtype: int64\n"
     ]
    }
   ],
   "source": [
    "top_titles = books.book_title.value_counts()[:10]\n",
    "print(f'The 10 book titles with the most entries in the books table are:\\n{top_titles}')"
   ]
  },
  {
   "cell_type": "markdown",
   "metadata": {},
   "source": [
    "This is actually quite an important observation. Although all of the ISBN entries are *unique* in the 'books' dataframe, different *forms* of the **same** book will have different ISBNs - i.e. paperback, e-book, etc. Therefore, we can see that some books have multiple ISBN entries (e.g. Jane Eyre has 19 different ISBNs, each corresponding to a different version of the book).\n",
    "\n",
    "It might be more useful for our model if we simplified this to give each book a *unique* identifier, independent of the book format, as our recommendations will be for a book, not a specific version of a book.\n",
    "\n",
    "**Will create this more unique identifier under the field name 'unique_isbn'. Note that entries with only a single ISBN number will be left the same. However, will need to do this after joining to the other tables in the dataset, as some ISBNs in the 'book-rating' table may be removed if done prior.**"
   ]
  },
  {
   "cell_type": "markdown",
   "metadata": {},
   "source": [
    "## Investigate 'book_ratings' table"
   ]
  },
  {
   "cell_type": "markdown",
   "metadata": {},
   "source": [
    "Again, let's tidy up the column names."
   ]
  },
  {
   "cell_type": "code",
   "execution_count": 39,
   "metadata": {},
   "outputs": [
    {
     "data": {
      "text/html": [
       "<div>\n",
       "<style scoped>\n",
       "    .dataframe tbody tr th:only-of-type {\n",
       "        vertical-align: middle;\n",
       "    }\n",
       "\n",
       "    .dataframe tbody tr th {\n",
       "        vertical-align: top;\n",
       "    }\n",
       "\n",
       "    .dataframe thead th {\n",
       "        text-align: right;\n",
       "    }\n",
       "</style>\n",
       "<table border=\"1\" class=\"dataframe\">\n",
       "  <thead>\n",
       "    <tr style=\"text-align: right;\">\n",
       "      <th></th>\n",
       "      <th>user_id</th>\n",
       "      <th>isbn</th>\n",
       "      <th>book_rating</th>\n",
       "    </tr>\n",
       "  </thead>\n",
       "  <tbody>\n",
       "    <tr>\n",
       "      <th>0</th>\n",
       "      <td>276725</td>\n",
       "      <td>034545104X</td>\n",
       "      <td>0</td>\n",
       "    </tr>\n",
       "    <tr>\n",
       "      <th>1</th>\n",
       "      <td>276726</td>\n",
       "      <td>0155061224</td>\n",
       "      <td>5</td>\n",
       "    </tr>\n",
       "    <tr>\n",
       "      <th>2</th>\n",
       "      <td>276727</td>\n",
       "      <td>0446520802</td>\n",
       "      <td>0</td>\n",
       "    </tr>\n",
       "    <tr>\n",
       "      <th>3</th>\n",
       "      <td>276729</td>\n",
       "      <td>052165615X</td>\n",
       "      <td>3</td>\n",
       "    </tr>\n",
       "    <tr>\n",
       "      <th>4</th>\n",
       "      <td>276729</td>\n",
       "      <td>0521795028</td>\n",
       "      <td>6</td>\n",
       "    </tr>\n",
       "  </tbody>\n",
       "</table>\n",
       "</div>"
      ],
      "text/plain": [
       "   user_id        isbn  book_rating\n",
       "0   276725  034545104X            0\n",
       "1   276726  0155061224            5\n",
       "2   276727  0446520802            0\n",
       "3   276729  052165615X            3\n",
       "4   276729  0521795028            6"
      ]
     },
     "execution_count": 39,
     "metadata": {},
     "output_type": "execute_result"
    }
   ],
   "source": [
    "book_ratings.columns = book_ratings.columns.str.strip().str.lower().str.replace('-', '_')\n",
    "book_ratings.head()"
   ]
  },
  {
   "cell_type": "code",
   "execution_count": 40,
   "metadata": {},
   "outputs": [
    {
     "data": {
      "text/plain": [
       "user_id         int64\n",
       "isbn           object\n",
       "book_rating     int64\n",
       "dtype: object"
      ]
     },
     "execution_count": 40,
     "metadata": {},
     "output_type": "execute_result"
    }
   ],
   "source": [
    "book_ratings.dtypes"
   ]
  },
  {
   "cell_type": "markdown",
   "metadata": {},
   "source": [
    "The data types already look good. Remember that the ISBN numbers may contain letters, and so should be left as strings.\n",
    "\n",
    "Which users contribute the most ratings?"
   ]
  },
  {
   "cell_type": "code",
   "execution_count": 41,
   "metadata": {},
   "outputs": [
    {
     "name": "stdout",
     "output_type": "stream",
     "text": [
      "The 20 users with the most ratings:\n",
      "user_id\n",
      "11676     13602\n",
      "198711     7550\n",
      "153662     6109\n",
      "98391      5891\n",
      "35859      5850\n",
      "212898     4785\n",
      "278418     4533\n",
      "76352      3367\n",
      "110973     3100\n",
      "235105     3067\n",
      "230522     2991\n",
      "16795      2948\n",
      "234623     2674\n",
      "36836      2529\n",
      "52584      2512\n",
      "245963     2507\n",
      "204864     2504\n",
      "55492      2459\n",
      "185233     2448\n",
      "171118     2421\n",
      "Name: isbn, dtype: int64\n"
     ]
    }
   ],
   "source": [
    "super_users = book_ratings.groupby('user_id').isbn.count().sort_values(ascending=False)\n",
    "print(f'The 20 users with the most ratings:\\n{super_users[:20]}')"
   ]
  },
  {
   "cell_type": "markdown",
   "metadata": {},
   "source": [
    "Wow! User \\#11676 has almost twice as many ratings as the next highest user! All of the top 20 users have thousands of ratings, which seems like a lot, although maybe I'm just a slow reader...\n",
    "\n",
    "Let's see how they are distributed."
   ]
  },
  {
   "cell_type": "code",
   "execution_count": 42,
   "metadata": {},
   "outputs": [
    {
     "data": {
      "image/png": "[encoded data removed]",
      "text/plain": [
       "<matplotlib.figure.Figure at 0x1285cc668>"
      ]
     },
     "metadata": {},
     "output_type": "display_data"
    }
   ],
   "source": [
    "# user distribution - users with more than 50 ratings removed\n",
    "user_hist = super_users.where(super_users<50)\n",
    "user_hist.hist(bins=30)\n",
    "plt.xlabel('No. of ratings')\n",
    "plt.ylabel('count')\n",
    "plt.show()"
   ]
  },
  {
   "cell_type": "markdown",
   "metadata": {},
   "source": [
    "It looks like **_by far_** the most frequent events are users with only a single rating entry. We can see that the 'super users' with thousands of ratings are significant outliers.\n",
    "\n",
    "This becomes clear if we make the same histogram with a cutoff for users with a minimum of 1000 ratings."
   ]
  },
  {
   "cell_type": "code",
   "execution_count": 43,
   "metadata": {},
   "outputs": [
    {
     "data": {
      "image/png": "[encoded data removed]",
      "text/plain": [
       "<matplotlib.figure.Figure at 0x1126e3a58>"
      ]
     },
     "metadata": {},
     "output_type": "display_data"
    }
   ],
   "source": [
    "# only users with more than 1000 ratings\n",
    "super_user_hist = super_users.where(super_users>1000)\n",
    "super_user_hist.hist(bins=30)\n",
    "plt.xlabel('No. of ratings (min. 1000)')\n",
    "plt.ylabel('count')\n",
    "plt.show()"
   ]
  },
  {
   "cell_type": "markdown",
   "metadata": {},
   "source": [
    "Let's see what the distribution of ratings looks like."
   ]
  },
  {
   "cell_type": "code",
   "execution_count": 44,
   "metadata": {},
   "outputs": [
    {
     "data": {
      "image/png": "[encoded data removed]",
      "text/plain": [
       "<matplotlib.figure.Figure at 0x126761390>"
      ]
     },
     "metadata": {},
     "output_type": "display_data"
    }
   ],
   "source": [
    "rtg = book_ratings.book_rating.value_counts().sort_index()\n",
    "\n",
    "plt.figure(figsize=(10, 5))\n",
    "plt.rcParams.update({'font.size': 20}) # Set larger plot font size\n",
    "plt.bar(rtg.index, rtg.values)\n",
    "plt.xlabel('Rating')\n",
    "plt.ylabel('counts')\n",
    "plt.show()"
   ]
  },
  {
   "cell_type": "markdown",
   "metadata": {},
   "source": [
    "Seems like most of the entries have a rating of zero!\n",
    "\n",
    "After doing some research on the internet regarding this (and similar) datasets, it appears that the rating scale is actually from 1 to 10, and a 0 indicates an 'implicit' rather than an 'explicit' rating.\n",
    "\n",
    "For the modeling step we'll only be looking at *explicit* ratings, and so the 0 rating entry rows will be removed.  \n",
    "**Note:** We can change this at a later stage if implicit ratings are to be considered also."
   ]
  },
  {
   "cell_type": "code",
   "execution_count": 45,
   "metadata": {},
   "outputs": [
    {
     "name": "stdout",
     "output_type": "stream",
     "text": [
      "Size of book_ratings before removing zero ratings: 1149780\n",
      "Size of book_ratings after removing zero ratings: 433671\n"
     ]
    }
   ],
   "source": [
    "print(f'Size of book_ratings before removing zero ratings: {len(book_ratings)}')\n",
    "book_ratings = book_ratings[book_ratings.book_rating != 0]\n",
    "print(f'Size of book_ratings after removing zero ratings: {len(book_ratings)}')"
   ]
  },
  {
   "cell_type": "markdown",
   "metadata": {},
   "source": [
    "By removing the implicit ratings we have reduced our sample size by more than half.\n",
    "\n",
    "Let's look at how the ratings are distributed again."
   ]
  },
  {
   "cell_type": "code",
   "execution_count": 46,
   "metadata": {},
   "outputs": [
    {
     "data": {
      "image/png": "[encoded data removed]",
      "text/plain": [
       "<matplotlib.figure.Figure at 0x128a39390>"
      ]
     },
     "metadata": {},
     "output_type": "display_data"
    }
   ],
   "source": [
    "rtg = book_ratings.book_rating.value_counts().sort_index()\n",
    "\n",
    "plt.figure(figsize=(10, 5))\n",
    "plt.rcParams.update({'font.size': 20}) # Set larger plot font size\n",
    "plt.bar(rtg.index, rtg.values)\n",
    "plt.xlabel('Rating')\n",
    "plt.ylabel('counts')\n",
    "plt.show()"
   ]
  },
  {
   "cell_type": "markdown",
   "metadata": {},
   "source": [
    "This is much more clear! Now we can see that 8 is the most frequent rating, while users tend to give ratings > 5, with very few low ratings given."
   ]
  },
  {
   "cell_type": "markdown",
   "metadata": {},
   "source": [
    "## Unify the 'users', 'books', and 'book_ratings' tables"
   ]
  },
  {
   "cell_type": "markdown",
   "metadata": {},
   "source": [
    "First, we'll join the 'books' table to the 'book_ratings' table on the ISBN field."
   ]
  },
  {
   "cell_type": "code",
   "execution_count": 47,
   "metadata": {},
   "outputs": [
    {
     "name": "stdout",
     "output_type": "stream",
     "text": [
      "Books table size: 271358\n",
      "Ratings table size: 433671\n",
      "New table size: 433671\n"
     ]
    }
   ],
   "source": [
    "print(f'Books table size: {len(books)}')\n",
    "print(f'Ratings table size: {len(book_ratings)}')\n",
    "books_with_ratings = book_ratings.join(books.set_index('isbn'), on='isbn')\n",
    "print(f'New table size: {len(books_with_ratings)}')"
   ]
  },
  {
   "cell_type": "markdown",
   "metadata": {},
   "source": [
    "Let's take a look at the new table."
   ]
  },
  {
   "cell_type": "code",
   "execution_count": 48,
   "metadata": {},
   "outputs": [
    {
     "data": {
      "text/html": [
       "<div>\n",
       "<style scoped>\n",
       "    .dataframe tbody tr th:only-of-type {\n",
       "        vertical-align: middle;\n",
       "    }\n",
       "\n",
       "    .dataframe tbody tr th {\n",
       "        vertical-align: top;\n",
       "    }\n",
       "\n",
       "    .dataframe thead th {\n",
       "        text-align: right;\n",
       "    }\n",
       "</style>\n",
       "<table border=\"1\" class=\"dataframe\">\n",
       "  <thead>\n",
       "    <tr style=\"text-align: right;\">\n",
       "      <th></th>\n",
       "      <th>user_id</th>\n",
       "      <th>isbn</th>\n",
       "      <th>book_rating</th>\n",
       "      <th>book_title</th>\n",
       "      <th>book_author</th>\n",
       "      <th>year_of_publication</th>\n",
       "      <th>publisher</th>\n",
       "    </tr>\n",
       "  </thead>\n",
       "  <tbody>\n",
       "    <tr>\n",
       "      <th>1</th>\n",
       "      <td>276726</td>\n",
       "      <td>0155061224</td>\n",
       "      <td>5</td>\n",
       "      <td>Rites of Passage</td>\n",
       "      <td>Judith Rae</td>\n",
       "      <td>2001.0</td>\n",
       "      <td>Heinle</td>\n",
       "    </tr>\n",
       "    <tr>\n",
       "      <th>3</th>\n",
       "      <td>276729</td>\n",
       "      <td>052165615X</td>\n",
       "      <td>3</td>\n",
       "      <td>Help!: Level 1</td>\n",
       "      <td>Philip Prowse</td>\n",
       "      <td>1999.0</td>\n",
       "      <td>Cambridge University Press</td>\n",
       "    </tr>\n",
       "    <tr>\n",
       "      <th>4</th>\n",
       "      <td>276729</td>\n",
       "      <td>0521795028</td>\n",
       "      <td>6</td>\n",
       "      <td>The Amsterdam Connection : Level 4 (Cambridge ...</td>\n",
       "      <td>Sue Leather</td>\n",
       "      <td>2001.0</td>\n",
       "      <td>Cambridge University Press</td>\n",
       "    </tr>\n",
       "    <tr>\n",
       "      <th>6</th>\n",
       "      <td>276736</td>\n",
       "      <td>3257224281</td>\n",
       "      <td>8</td>\n",
       "      <td>NaN</td>\n",
       "      <td>NaN</td>\n",
       "      <td>NaN</td>\n",
       "      <td>NaN</td>\n",
       "    </tr>\n",
       "    <tr>\n",
       "      <th>7</th>\n",
       "      <td>276737</td>\n",
       "      <td>0600570967</td>\n",
       "      <td>6</td>\n",
       "      <td>NaN</td>\n",
       "      <td>NaN</td>\n",
       "      <td>NaN</td>\n",
       "      <td>NaN</td>\n",
       "    </tr>\n",
       "  </tbody>\n",
       "</table>\n",
       "</div>"
      ],
      "text/plain": [
       "   user_id        isbn  book_rating  \\\n",
       "1   276726  0155061224            5   \n",
       "3   276729  052165615X            3   \n",
       "4   276729  0521795028            6   \n",
       "6   276736  3257224281            8   \n",
       "7   276737  0600570967            6   \n",
       "\n",
       "                                          book_title    book_author  \\\n",
       "1                                   Rites of Passage     Judith Rae   \n",
       "3                                     Help!: Level 1  Philip Prowse   \n",
       "4  The Amsterdam Connection : Level 4 (Cambridge ...    Sue Leather   \n",
       "6                                                NaN            NaN   \n",
       "7                                                NaN            NaN   \n",
       "\n",
       "   year_of_publication                   publisher  \n",
       "1               2001.0                      Heinle  \n",
       "3               1999.0  Cambridge University Press  \n",
       "4               2001.0  Cambridge University Press  \n",
       "6                  NaN                         NaN  \n",
       "7                  NaN                         NaN  "
      ]
     },
     "execution_count": 48,
     "metadata": {},
     "output_type": "execute_result"
    }
   ],
   "source": [
    "books_with_ratings.head()"
   ]
  },
  {
   "cell_type": "code",
   "execution_count": 49,
   "metadata": {},
   "outputs": [
    {
     "name": "stdout",
     "output_type": "stream",
     "text": [
      "There are 49851 books with no title/author information.\n",
      "This represents 8.70% of the ratings dataset.\n"
     ]
    }
   ],
   "source": [
    "print(f'There are {books_with_ratings.book_title.isnull().sum()} books with no title/author information.')\n",
    "print(f'This represents {len(books_with_ratings)/books_with_ratings.book_title.isnull().sum():.2f}% of the ratings dataset.')"
   ]
  },
  {
   "cell_type": "markdown",
   "metadata": {},
   "source": [
    "There seems to be quite a few ISBNs in the ratings table that did not match an ISBN in the books table (49851 of them)!\n",
    "\n",
    "There isn't really anything we can do about that, but we should really remove them from the dataset as we won't be able to access the title of the book to make a recommendation even if the model can use them."
   ]
  },
  {
   "cell_type": "code",
   "execution_count": 50,
   "metadata": {},
   "outputs": [],
   "source": [
    "books_with_ratings.dropna(inplace=True) # remove rows with missing title/author data"
   ]
  },
  {
   "cell_type": "markdown",
   "metadata": {},
   "source": [
    "Let's see which books have the highest *cumulative* book rating values."
   ]
  },
  {
   "cell_type": "code",
   "execution_count": 51,
   "metadata": {},
   "outputs": [
    {
     "data": {
      "text/plain": [
       "book_title\n",
       "The Lovely Bones: A Novel                                           5787\n",
       "The Da Vinci Code                                                   4169\n",
       "The Secret Life of Bees                                             3442\n",
       "The Red Tent (Bestselling Backlist)                                 3134\n",
       "The Nanny Diaries: A Novel                                          2923\n",
       "Harry Potter and the Chamber of Secrets (Book 2)                    2882\n",
       "Bridget Jones's Diary                                               2875\n",
       "Harry Potter and the Sorcerer's Stone (Harry Potter (Paperback))    2815\n",
       "Life of Pi                                                          2715\n",
       "A Painted House                                                     2708\n",
       "Name: book_rating, dtype: int64"
      ]
     },
     "execution_count": 51,
     "metadata": {},
     "output_type": "execute_result"
    }
   ],
   "source": [
    "books_with_ratings.groupby('book_title').book_rating.sum().sort_values(ascending=False)[:10]"
   ]
  },
  {
   "cell_type": "markdown",
   "metadata": {},
   "source": [
    "This seems about right as it combines the total number of ratings with the score given, so these are all really popular book titles.\n",
    "\n",
    "What about the highest average ratings (with a minimum of at least 50 ratings recieved)?"
   ]
  },
  {
   "cell_type": "code",
   "execution_count": 52,
   "metadata": {},
   "outputs": [
    {
     "data": {
      "text/plain": [
       "book_title\n",
       "The Two Towers (The Lord of the Rings, Part 2)                                      9.330882\n",
       "The Return of the King (The Lord of the Rings, Part 3)                              9.213592\n",
       "Harry Potter and the Goblet of Fire (Book 4)                                        9.125506\n",
       "The Little Prince                                                                   9.111111\n",
       "Charlotte's Web (Trophy Newbery)                                                    9.073529\n",
       "Harry Potter and the Sorcerer's Stone (Book 1)                                      9.062500\n",
       "Harry Potter and the Order of the Phoenix (Book 5)                                  9.047393\n",
       "Harry Potter and the Prisoner of Azkaban (Book 3)                                   9.043321\n",
       "To Kill a Mockingbird                                                               8.977528\n",
       "Dune (Remembering Tomorrow)                                                         8.973333\n",
       "Harry Potter and the Sorcerer's Stone (Harry Potter (Paperback))                    8.936508\n",
       "Ender's Game (Ender Wiggins Saga (Paperback))                                       8.920530\n",
       "The Secret Garden                                                                   8.884058\n",
       "The Fellowship of the Ring (The Lord of the Rings, Part 1)                          8.882927\n",
       "Anne of Green Gables (Anne of Green Gables Novels (Paperback))                      8.878788\n",
       "A Wrinkle In Time                                                                   8.876543\n",
       "Voyager                                                                             8.854545\n",
       "Harry Potter and the Chamber of Secrets (Book 2)                                    8.840491\n",
       "The Princess Bride: S Morgenstern's Classic Tale of True Love and High Adventure    8.837838\n",
       "1984                                                                                8.814815\n",
       "Name: book_rating, dtype: float64"
      ]
     },
     "execution_count": 52,
     "metadata": {},
     "output_type": "execute_result"
    }
   ],
   "source": [
    "cutoff = books_with_ratings.book_title.value_counts()\n",
    "mean_rtg = books_with_ratings[books_with_ratings.book_title.isin(cutoff[cutoff>50].index)].groupby('book_title')['book_rating'].mean()\n",
    "mean_rtg.sort_values(ascending=False)[:20] # show only top 20"
   ]
  },
  {
   "cell_type": "markdown",
   "metadata": {},
   "source": [
    "This looks perfectly reasonable. The Harry Potter and Lord of the Rings books rate extremely highly, as expected.\n",
    "\n",
    "How about the lowest-rated books?"
   ]
  },
  {
   "cell_type": "code",
   "execution_count": 53,
   "metadata": {},
   "outputs": [
    {
     "data": {
      "text/plain": [
       "book_title\n",
       "Wild Animus                                               4.390706\n",
       "Four Blondes                                              5.393939\n",
       "Isle of Dogs                                              5.433962\n",
       "4 Blondes                                                 5.653846\n",
       "Songs in Ordinary Time (Oprah's Book Club (Paperback))    6.530303\n",
       "Full Tilt (Janet Evanovich's Full Series)                 6.568627\n",
       "Bleachers                                                 6.583333\n",
       "Hornet's Nest                                             6.591398\n",
       "My Gal Sunday                                             6.607843\n",
       "Slow Waltz in Cedar Bend                                  6.619718\n",
       "Name: book_rating, dtype: float64"
      ]
     },
     "execution_count": 53,
     "metadata": {},
     "output_type": "execute_result"
    }
   ],
   "source": [
    "mean_rtg.sort_values(ascending=True)[:10] # bottom 10 only"
   ]
  },
  {
   "cell_type": "markdown",
   "metadata": {},
   "source": [
    "Seems like the *lowest average* rating in the dataset is only a 4.39 - and all the rest of the books have average ratings higher than 5.\n",
    "\n",
    "I haven't heard of any of these books, so I can't really comment on if they seem correct here.\n",
    "\n",
    "**Now I'd like to tackle the challenge of the same book potentially having multiple ISBN numbers (for the different formats it is available in). We should clean that up here before we add the 'user' table.**"
   ]
  },
  {
   "cell_type": "markdown",
   "metadata": {},
   "source": [
    "## Restrict books to a \"single ISBN per book\" (regardless of format)"
   ]
  },
  {
   "cell_type": "code",
   "execution_count": 54,
   "metadata": {},
   "outputs": [
    {
     "data": {
      "text/plain": [
       "1     86753\n",
       "2     20328\n",
       "3      8295\n",
       "4      4476\n",
       "5      2852\n",
       "6      1853\n",
       "7      1367\n",
       "8      1033\n",
       "9       789\n",
       "10      658\n",
       "11      501\n",
       "12      446\n",
       "13      361\n",
       "15      283\n",
       "14      279\n",
       "16      226\n",
       "17      207\n",
       "19      185\n",
       "18      171\n",
       "20      141\n",
       "Name: isbn, dtype: int64"
      ]
     },
     "execution_count": 54,
     "metadata": {},
     "output_type": "execute_result"
    }
   ],
   "source": [
    "multiple_isbns = books_with_ratings.groupby('book_title').isbn.count()\n",
    "multiple_isbns.value_counts()[:20]"
   ]
  },
  {
   "cell_type": "markdown",
   "metadata": {},
   "source": [
    "We can see that the vast majority of books have less than 3 associated ISBN numbers, however quite a few multiple ISBNs. We want to create a UNIQUE_ISBN such that a single book will only have 1 identifier when fed to the recommendation model."
   ]
  },
  {
   "cell_type": "code",
   "execution_count": 55,
   "metadata": {},
   "outputs": [],
   "source": [
    "has_mult_isbns = multiple_isbns.where(multiple_isbns>1)\n",
    "has_mult_isbns.dropna(inplace=True) # remove NaNs, which in this case is books with a single ISBN number"
   ]
  },
  {
   "cell_type": "code",
   "execution_count": 56,
   "metadata": {},
   "outputs": [
    {
     "name": "stdout",
     "output_type": "stream",
     "text": [
      "There are 46615 book titles with multiple ISBN numbers which we will try to re-assign to a unique identifier\n"
     ]
    }
   ],
   "source": [
    "print(f'There are {len(has_mult_isbns)} book titles with multiple ISBN numbers which we will try to re-assign to a unique identifier')"
   ]
  },
  {
   "cell_type": "markdown",
   "metadata": {},
   "source": [
    "**Note:** Created the dictionary below and pickled it, just need to load it again."
   ]
  },
  {
   "cell_type": "code",
   "execution_count": 58,
   "metadata": {},
   "outputs": [
    {
     "name": "stdout",
     "output_type": "stream",
     "text": [
      "CPU times: user 41min 25s, sys: 10.3 s, total: 41min 36s\n",
      "Wall time: 42min 7s\n"
     ]
    }
   ],
   "source": [
    "# Create dictionary for books with multiple isbns\n",
    "# def make_isbn_dict(df):\n",
    "#     title_isbn_dict = {}\n",
    "#     for title in has_mult_isbns.index:\n",
    "#         isbn_series = df.loc[df.book_title==title].isbn\n",
    "#         title_isbn_dict[title] = isbn_series.tolist()\n",
    "#     return title_isbn_dict\n",
    "\n",
    "# %time dict_unique_isbn = make_isbn_dict(books_with_ratings)"
   ]
  },
  {
   "cell_type": "code",
   "execution_count": 61,
   "metadata": {},
   "outputs": [],
   "source": [
    "# As the loop takes a while to run (39 min on the full dataset), pickle this dict for future use\n",
    "# with open('multiple_isbn_dict.pickle', 'wb') as handle:\n",
    "#     pickle.dump(dict_unique_isbn, handle, protocol=pickle.HIGHEST_PROTOCOL)"
   ]
  },
  {
   "cell_type": "code",
   "execution_count": 57,
   "metadata": {},
   "outputs": [
    {
     "ename": "EOFError",
     "evalue": "Ran out of input",
     "output_type": "error",
     "traceback": [
      "\u001b[0;31m---------------------------------------------------------------------------\u001b[0m",
      "\u001b[0;31mEOFError\u001b[0m                                  Traceback (most recent call last)",
      "\u001b[0;32m<ipython-input-57-ce1bf5197c04>\u001b[0m in \u001b[0;36m<module>\u001b[0;34m()\u001b[0m\n\u001b[1;32m      1\u001b[0m \u001b[0;31m# LOAD isbn_dict back into namespace\u001b[0m\u001b[0;34m\u001b[0m\u001b[0;34m\u001b[0m\u001b[0m\n\u001b[1;32m      2\u001b[0m \u001b[0;32mwith\u001b[0m \u001b[0mopen\u001b[0m\u001b[0;34m(\u001b[0m\u001b[0;34m'isbn_dictionary.pickle'\u001b[0m\u001b[0;34m,\u001b[0m \u001b[0;34m'rb'\u001b[0m\u001b[0;34m)\u001b[0m \u001b[0;32mas\u001b[0m \u001b[0mhandle\u001b[0m\u001b[0;34m:\u001b[0m\u001b[0;34m\u001b[0m\u001b[0m\n\u001b[0;32m----> 3\u001b[0;31m     \u001b[0mmultiple_isbn_dict\u001b[0m \u001b[0;34m=\u001b[0m \u001b[0mpickle\u001b[0m\u001b[0;34m.\u001b[0m\u001b[0mload\u001b[0m\u001b[0;34m(\u001b[0m\u001b[0mhandle\u001b[0m\u001b[0;34m)\u001b[0m\u001b[0;34m\u001b[0m\u001b[0m\n\u001b[0m",
      "\u001b[0;31mEOFError\u001b[0m: Ran out of input"
     ]
    }
   ],
   "source": [
    "# LOAD isbn_dict back into namespace\n",
    "with open('multiple_isbn_dict.pickle', 'rb') as handle:\n",
    "    multiple_isbn_dict = pickle.load(handle)"
   ]
  },
  {
   "cell_type": "code",
   "execution_count": 62,
   "metadata": {},
   "outputs": [
    {
     "name": "stdout",
     "output_type": "stream",
     "text": [
      "There are now 46615 books in the ISBN dictionary that have multiple ISBN numbers\n"
     ]
    }
   ],
   "source": [
    "print(f'There are now {len(multiple_isbn_dict)} books in the ISBN dictionary that have multiple ISBN numbers')"
   ]
  },
  {
   "cell_type": "code",
   "execution_count": 63,
   "metadata": {},
   "outputs": [
    {
     "name": "stdout",
     "output_type": "stream",
     "text": [
      "CPU times: user 20.3 s, sys: 86.4 ms, total: 20.4 s\n",
      "Wall time: 20.5 s\n"
     ]
    }
   ],
   "source": [
    "# Add 'unique_isbn' column to 'books_with_ratings' dataframe that includes the first ISBN if multiple ISBNS,\n",
    "# or just the ISBN if only 1 ISBN present anyway.\n",
    "def add_unique_isbn_col(df):\n",
    "    df['unique_isbn'] = df.apply(lambda row: multiple_isbn_dict[row.book_title][0] if row.book_title in multiple_isbn_dict.keys() else row.isbn, axis=1)\n",
    "    return df\n",
    "\n",
    "%time books_with_ratings = add_unique_isbn_col(books_with_ratings)"
   ]
  },
  {
   "cell_type": "code",
   "execution_count": 64,
   "metadata": {},
   "outputs": [
    {
     "name": "stdout",
     "output_type": "stream",
     "text": [
      "Difference in the number of unique entries: 13734\n"
     ]
    }
   ],
   "source": [
    "x=books_with_ratings.isbn.nunique()\n",
    "y=books_with_ratings.unique_isbn.nunique()\n",
    "print(f'Difference in the number of unique entries: {x-y}')"
   ]
  },
  {
   "cell_type": "markdown",
   "metadata": {},
   "source": [
    "We can now eliminate the book duplicates caused by multiple ISBNs by dropping duplicates in the 'unique_isbn' column."
   ]
  },
  {
   "cell_type": "code",
   "execution_count": 65,
   "metadata": {},
   "outputs": [
    {
     "name": "stdout",
     "output_type": "stream",
     "text": [
      "Size before removing duplicates: 378032\n",
      "Size after removing duplicates: 133368\n"
     ]
    }
   ],
   "source": [
    "print(f'Size before removing duplicates: {len(books_with_ratings)}')\n",
    "books_with_ratings = books_with_ratings.drop_duplicates(subset='unique_isbn')\n",
    "print(f'Size after removing duplicates: {len(books_with_ratings)}')"
   ]
  },
  {
   "cell_type": "markdown",
   "metadata": {},
   "source": [
    "Removing the duplicated books (with different ISBNs) has reduced the dataset by almost 2/3rds."
   ]
  },
  {
   "cell_type": "code",
   "execution_count": 66,
   "metadata": {},
   "outputs": [
    {
     "data": {
      "text/html": [
       "<div>\n",
       "<style scoped>\n",
       "    .dataframe tbody tr th:only-of-type {\n",
       "        vertical-align: middle;\n",
       "    }\n",
       "\n",
       "    .dataframe tbody tr th {\n",
       "        vertical-align: top;\n",
       "    }\n",
       "\n",
       "    .dataframe thead th {\n",
       "        text-align: right;\n",
       "    }\n",
       "</style>\n",
       "<table border=\"1\" class=\"dataframe\">\n",
       "  <thead>\n",
       "    <tr style=\"text-align: right;\">\n",
       "      <th></th>\n",
       "      <th>user_id</th>\n",
       "      <th>isbn</th>\n",
       "      <th>book_rating</th>\n",
       "      <th>book_title</th>\n",
       "      <th>book_author</th>\n",
       "      <th>year_of_publication</th>\n",
       "      <th>publisher</th>\n",
       "      <th>unique_isbn</th>\n",
       "    </tr>\n",
       "  </thead>\n",
       "  <tbody>\n",
       "    <tr>\n",
       "      <th>1</th>\n",
       "      <td>276726</td>\n",
       "      <td>0155061224</td>\n",
       "      <td>5</td>\n",
       "      <td>Rites of Passage</td>\n",
       "      <td>Judith Rae</td>\n",
       "      <td>2001.0</td>\n",
       "      <td>Heinle</td>\n",
       "      <td>0155061224</td>\n",
       "    </tr>\n",
       "    <tr>\n",
       "      <th>3</th>\n",
       "      <td>276729</td>\n",
       "      <td>052165615X</td>\n",
       "      <td>3</td>\n",
       "      <td>Help!: Level 1</td>\n",
       "      <td>Philip Prowse</td>\n",
       "      <td>1999.0</td>\n",
       "      <td>Cambridge University Press</td>\n",
       "      <td>052165615X</td>\n",
       "    </tr>\n",
       "    <tr>\n",
       "      <th>4</th>\n",
       "      <td>276729</td>\n",
       "      <td>0521795028</td>\n",
       "      <td>6</td>\n",
       "      <td>The Amsterdam Connection : Level 4 (Cambridge ...</td>\n",
       "      <td>Sue Leather</td>\n",
       "      <td>2001.0</td>\n",
       "      <td>Cambridge University Press</td>\n",
       "      <td>0521795028</td>\n",
       "    </tr>\n",
       "    <tr>\n",
       "      <th>8</th>\n",
       "      <td>276744</td>\n",
       "      <td>038550120X</td>\n",
       "      <td>7</td>\n",
       "      <td>A Painted House</td>\n",
       "      <td>JOHN GRISHAM</td>\n",
       "      <td>2001.0</td>\n",
       "      <td>Doubleday</td>\n",
       "      <td>038550120X</td>\n",
       "    </tr>\n",
       "    <tr>\n",
       "      <th>16</th>\n",
       "      <td>276747</td>\n",
       "      <td>0060517794</td>\n",
       "      <td>9</td>\n",
       "      <td>Little Altars Everywhere</td>\n",
       "      <td>Rebecca Wells</td>\n",
       "      <td>2003.0</td>\n",
       "      <td>HarperTorch</td>\n",
       "      <td>0060517794</td>\n",
       "    </tr>\n",
       "  </tbody>\n",
       "</table>\n",
       "</div>"
      ],
      "text/plain": [
       "    user_id        isbn  book_rating  \\\n",
       "1    276726  0155061224            5   \n",
       "3    276729  052165615X            3   \n",
       "4    276729  0521795028            6   \n",
       "8    276744  038550120X            7   \n",
       "16   276747  0060517794            9   \n",
       "\n",
       "                                           book_title    book_author  \\\n",
       "1                                    Rites of Passage     Judith Rae   \n",
       "3                                      Help!: Level 1  Philip Prowse   \n",
       "4   The Amsterdam Connection : Level 4 (Cambridge ...    Sue Leather   \n",
       "8                                     A Painted House   JOHN GRISHAM   \n",
       "16                           Little Altars Everywhere  Rebecca Wells   \n",
       "\n",
       "    year_of_publication                   publisher unique_isbn  \n",
       "1                2001.0                      Heinle  0155061224  \n",
       "3                1999.0  Cambridge University Press  052165615X  \n",
       "4                2001.0  Cambridge University Press  0521795028  \n",
       "8                2001.0                   Doubleday  038550120X  \n",
       "16               2003.0                 HarperTorch  0060517794  "
      ]
     },
     "execution_count": 66,
     "metadata": {},
     "output_type": "execute_result"
    }
   ],
   "source": [
    "books_with_ratings.head()"
   ]
  },
  {
   "cell_type": "markdown",
   "metadata": {},
   "source": [
    "Let's now drop the original 'isbn' column and replace it with the 'unique_isbn' column."
   ]
  },
  {
   "cell_type": "code",
   "execution_count": 67,
   "metadata": {},
   "outputs": [
    {
     "data": {
      "text/html": [
       "<div>\n",
       "<style scoped>\n",
       "    .dataframe tbody tr th:only-of-type {\n",
       "        vertical-align: middle;\n",
       "    }\n",
       "\n",
       "    .dataframe tbody tr th {\n",
       "        vertical-align: top;\n",
       "    }\n",
       "\n",
       "    .dataframe thead th {\n",
       "        text-align: right;\n",
       "    }\n",
       "</style>\n",
       "<table border=\"1\" class=\"dataframe\">\n",
       "  <thead>\n",
       "    <tr style=\"text-align: right;\">\n",
       "      <th></th>\n",
       "      <th>user_id</th>\n",
       "      <th>unique_isbn</th>\n",
       "      <th>book_rating</th>\n",
       "      <th>book_title</th>\n",
       "      <th>book_author</th>\n",
       "      <th>year_of_publication</th>\n",
       "      <th>publisher</th>\n",
       "    </tr>\n",
       "  </thead>\n",
       "  <tbody>\n",
       "    <tr>\n",
       "      <th>1</th>\n",
       "      <td>276726</td>\n",
       "      <td>0155061224</td>\n",
       "      <td>5</td>\n",
       "      <td>Rites of Passage</td>\n",
       "      <td>Judith Rae</td>\n",
       "      <td>2001.0</td>\n",
       "      <td>Heinle</td>\n",
       "    </tr>\n",
       "    <tr>\n",
       "      <th>3</th>\n",
       "      <td>276729</td>\n",
       "      <td>052165615X</td>\n",
       "      <td>3</td>\n",
       "      <td>Help!: Level 1</td>\n",
       "      <td>Philip Prowse</td>\n",
       "      <td>1999.0</td>\n",
       "      <td>Cambridge University Press</td>\n",
       "    </tr>\n",
       "    <tr>\n",
       "      <th>4</th>\n",
       "      <td>276729</td>\n",
       "      <td>0521795028</td>\n",
       "      <td>6</td>\n",
       "      <td>The Amsterdam Connection : Level 4 (Cambridge ...</td>\n",
       "      <td>Sue Leather</td>\n",
       "      <td>2001.0</td>\n",
       "      <td>Cambridge University Press</td>\n",
       "    </tr>\n",
       "    <tr>\n",
       "      <th>8</th>\n",
       "      <td>276744</td>\n",
       "      <td>038550120X</td>\n",
       "      <td>7</td>\n",
       "      <td>A Painted House</td>\n",
       "      <td>JOHN GRISHAM</td>\n",
       "      <td>2001.0</td>\n",
       "      <td>Doubleday</td>\n",
       "    </tr>\n",
       "    <tr>\n",
       "      <th>16</th>\n",
       "      <td>276747</td>\n",
       "      <td>0060517794</td>\n",
       "      <td>9</td>\n",
       "      <td>Little Altars Everywhere</td>\n",
       "      <td>Rebecca Wells</td>\n",
       "      <td>2003.0</td>\n",
       "      <td>HarperTorch</td>\n",
       "    </tr>\n",
       "  </tbody>\n",
       "</table>\n",
       "</div>"
      ],
      "text/plain": [
       "    user_id unique_isbn  book_rating  \\\n",
       "1    276726  0155061224            5   \n",
       "3    276729  052165615X            3   \n",
       "4    276729  0521795028            6   \n",
       "8    276744  038550120X            7   \n",
       "16   276747  0060517794            9   \n",
       "\n",
       "                                           book_title    book_author  \\\n",
       "1                                    Rites of Passage     Judith Rae   \n",
       "3                                      Help!: Level 1  Philip Prowse   \n",
       "4   The Amsterdam Connection : Level 4 (Cambridge ...    Sue Leather   \n",
       "8                                     A Painted House   JOHN GRISHAM   \n",
       "16                           Little Altars Everywhere  Rebecca Wells   \n",
       "\n",
       "    year_of_publication                   publisher  \n",
       "1                2001.0                      Heinle  \n",
       "3                1999.0  Cambridge University Press  \n",
       "4                2001.0  Cambridge University Press  \n",
       "8                2001.0                   Doubleday  \n",
       "16               2003.0                 HarperTorch  "
      ]
     },
     "execution_count": 67,
     "metadata": {},
     "output_type": "execute_result"
    }
   ],
   "source": [
    "books_with_ratings.drop('isbn', axis=1, inplace=True)\n",
    "books_with_ratings = books_with_ratings[['user_id', 'unique_isbn', 'book_rating', 'book_title', 'book_author', 'year_of_publication', 'publisher']]\n",
    "books_with_ratings.head()"
   ]
  },
  {
   "cell_type": "markdown",
   "metadata": {},
   "source": [
    "## Exploratory data analysis"
   ]
  },
  {
   "cell_type": "code",
   "execution_count": null,
   "metadata": {},
   "outputs": [],
   "source": [
    "data.info()"
   ]
  },
  {
   "cell_type": "code",
   "execution_count": null,
   "metadata": {},
   "outputs": [],
   "source": [
    "data.shape"
   ]
  },
  {
   "cell_type": "code",
   "execution_count": null,
   "metadata": {},
   "outputs": [],
   "source": [
    "data.head()"
   ]
  },
  {
   "cell_type": "markdown",
   "metadata": {},
   "source": [
    "### Look more closely at the ISBN numbers in each of the tables"
   ]
  },
  {
   "cell_type": "code",
   "execution_count": null,
   "metadata": {},
   "outputs": [],
   "source": [
    "book_table_isbn_unique = set(books['ISBN'])\n",
    "rating_table_isbn_unique = set(book_ratings['ISBN'])"
   ]
  },
  {
   "cell_type": "code",
   "execution_count": null,
   "metadata": {},
   "outputs": [],
   "source": [
    "# Find the 'symmetric difference' between these two sets - i.e. the val's that are in one but not the other!\n",
    "isbn_diff = book_table_isbn_unique ^ rating_table_isbn_unique\n",
    "len(isbn_diff)"
   ]
  },
  {
   "cell_type": "markdown",
   "metadata": {},
   "source": [
    "Ok, so is most of this difference from one of the tables?"
   ]
  },
  {
   "cell_type": "code",
   "execution_count": null,
   "metadata": {},
   "outputs": [],
   "source": [
    "in_books_but_not_in_ratings = book_table_isbn_unique - rating_table_isbn_unique\n",
    "print(f'No. of books in BOOKS table not in RATINGS: {len(in_books_but_not_in_ratings)}')\n",
    "\n",
    "in_ratings_but_not_in_books = rating_table_isbn_unique - book_table_isbn_unique\n",
    "print(f'No. of books in RATINGS table not in BOOKS: {len(in_ratings_but_not_in_books)}')"
   ]
  },
  {
   "cell_type": "markdown",
   "metadata": {},
   "source": [
    "There are far more ISBN numbers in the RATINGS table that don't appear in BOOKS.... Are these mainly typos or entry errors?"
   ]
  },
  {
   "cell_type": "markdown",
   "metadata": {},
   "source": [
    "# Collaborative Filtering method\n",
    "\n",
    "Initially, I'll remove all of the other fields except 'User-ID', 'ISBN', and 'Book-Rating' as those are all we need for a basic collaborative filtering model."
   ]
  },
  {
   "cell_type": "code",
   "execution_count": null,
   "metadata": {},
   "outputs": [],
   "source": [
    "data3 = data2[['User-ID', 'ISBN', 'Book-Rating']] # select only user, book, and rating columns\n",
    "data3.columns = ['userID', 'bookID', 'rating'] # simplify column names\n",
    "data3.head()"
   ]
  },
  {
   "cell_type": "markdown",
   "metadata": {},
   "source": [
    "_**Note**_: ISBN numbers are currently 13 digits long, but used to be 10. Any ISBN that isn't 10 or 13 digits long is probably an error that should be handled somehow. Any that are 9 digits long might actually be SBN numbers (pre-1970), and can be converted into ISBN's by just pre-fixing with a zero.\n",
    "\n",
    "Different ISBN's are assigned to different formats of the same book; for example, an e-book, paperback, or hardcover or Pride & Prejudice would each have a different ISBN.\n",
    "\n",
    "The ISBN number is actually encoded info about the 'group', 'title', and 'publisher'... but not sure if I need to extract that info for this project."
   ]
  },
  {
   "cell_type": "markdown",
   "metadata": {},
   "source": [
    "# Using sklearn"
   ]
  },
  {
   "cell_type": "code",
   "execution_count": null,
   "metadata": {},
   "outputs": [],
   "source": [
    "from sklearn import cross_validation as cv\n",
    "train_data, test_data = cv.train_test_split(data3, test_size=0.25)"
   ]
  },
  {
   "cell_type": "code",
   "execution_count": null,
   "metadata": {},
   "outputs": [],
   "source": [
    "test_data.head()"
   ]
  },
  {
   "cell_type": "markdown",
   "metadata": {},
   "source": [
    "Need to cast the ISBN to int type for the matrix-forming step below. As int doesn't have NaN's, we'll convert them to zeros, then filter out any rows with an ISBN of zero."
   ]
  },
  {
   "cell_type": "code",
   "execution_count": null,
   "metadata": {},
   "outputs": [],
   "source": [
    "test_data['book'] = test_data['book'].fillna(0.0).astype(int)\n",
    "\n",
    "# If we're doing this we could just use dropna() instead\n",
    "# test_data['book'] = test_data['book'].dropna().astype(int)\n",
    "\n",
    "test_data = test_data[test_data['book'] > 0]"
   ]
  },
  {
   "cell_type": "code",
   "execution_count": null,
   "metadata": {},
   "outputs": [],
   "source": [
    "test_data.dtypes"
   ]
  },
  {
   "cell_type": "markdown",
   "metadata": {},
   "source": [
    "### Assign each unique 'User-ID' or 'ISBN' an int value starting from 1 that can be mapped back"
   ]
  },
  {
   "cell_type": "code",
   "execution_count": null,
   "metadata": {},
   "outputs": [],
   "source": [
    "# Get int mapping for USER\n",
    "u_unique = test_data.user.unique()  # create a 'set' (i.e. all unique) list of vals\n",
    "test_data_user2idx = {o:i for i, o in enumerate(u_unique)}\n",
    "\n",
    "# Get int mapping for ISBN\n",
    "b_unique = test_data.book.unique()  # create a 'set' (i.e. all unique) list of vals\n",
    "test_data_book2idx = {o:i for i, o in enumerate(b_unique)}"
   ]
  },
  {
   "cell_type": "code",
   "execution_count": null,
   "metadata": {},
   "outputs": [],
   "source": [
    "test_data['u_unique'] = test_data['user'].map(test_data_user2idx)\n",
    "test_data['b_unique'] = test_data['book'].map(test_data_book2idx)\n",
    "\n",
    "test_data = test_data[['u_unique', 'b_unique', 'rating']]"
   ]
  },
  {
   "cell_type": "markdown",
   "metadata": {},
   "source": [
    "### Memory-based collaborative filtering\n",
    "\n",
    "Implementing via this [tutorial](https://cambridgespark.com/content/tutorials/implementing-your-own-recommender-systems-in-Python/index.html).\n",
    "\n",
    "Memory based CF can be divided into 2 main approaches:\n",
    " - Item-Item CF: \"Users who liked this item also liked...\"\n",
    " - User-Item CF: \"Users who are similar to you also liked...\"\n",
    " \n",
    "In both cases, you create a user-item matrix built from the entire dataset. We'll create a matrix for each of the training and testing sets, with the users as the rows, the books as the columns, and the rating as the value/entry. Note that this will be a very sparse matrix, as not every user will have watched every movie etc."
   ]
  },
  {
   "cell_type": "code",
   "execution_count": null,
   "metadata": {},
   "outputs": [],
   "source": [
    "# Create user-item matrices\n",
    "n_users = test_data['u_unique'].nunique()\n",
    "n_books = test_data['b_unique'].nunique()\n",
    "\n",
    "# First, create an empty matrix of size USERS x BOOKS (this speeds up the later steps)\n",
    "test_matrix = np.zeros((n_users, n_books))\n",
    "# Then, add the appropriate vals to the matrix by extracting them from the df with itertuples\n",
    "for entry in test_data.itertuples():\n",
    "    test_matrix[entry[1], entry[2]] = entry[3] # entry[1] is the user-id, entry[2] is the book-isbn"
   ]
  },
  {
   "cell_type": "markdown",
   "metadata": {},
   "source": [
    "Now the matrix is in the correct format, with the user and book entries encoded from the mapping dict created above!"
   ]
  },
  {
   "cell_type": "markdown",
   "metadata": {},
   "source": [
    "### Calculating cosine similarity with the 'pairwise distances' function\n",
    "\n",
    "To determine the similarity between users/items we'll use the 'cosine similarity' which is a common n-dimensional distance metric.\n",
    "\n",
    "Note: since all of the rating values are positive (1-10 scale), the cosine distances will all fall between 0 and 1."
   ]
  },
  {
   "cell_type": "code",
   "execution_count": null,
   "metadata": {},
   "outputs": [],
   "source": [
    "test_matrix.shape"
   ]
  },
  {
   "cell_type": "code",
   "execution_count": null,
   "metadata": {},
   "outputs": [],
   "source": [
    "# This crashed the kernel last time\n",
    "test_matrix_small = test_matrix[:10, :10]\n",
    "\n",
    "from sklearn.metrics.pairwise import pairwise_distances\n",
    "user_similarity = pairwise_distances(test_matrix_small, metric='cosine')\n",
    "item_similarity = pairwise_distances(test_matrix_small.T, metric='cosine') # .T transposes the matrix (NumPy)\n",
    "\n",
    "# What about tring 'cosine_similarity'?\n",
    "# from sklearn.metrics.pairwise import cosine_similarity"
   ]
  },
  {
   "cell_type": "markdown",
   "metadata": {},
   "source": [
    "If we are looking at similarity between users we need to account for the average behaviour of that individual user. For example, one user may give all movies quite high ratings, whereas one might give all ratings between 3 and 7. These users might otherwise have quite similar preferences.\n",
    "\n",
    "To do this, we use the users average rating as a 'weighting' factor.\n",
    "\n",
    "If we are looking at item-based similarity we don't need to add this weighting factor.\n",
    "\n",
    "We can incorporate this into a ```predict()``` function, like so:"
   ]
  },
  {
   "cell_type": "code",
   "execution_count": null,
   "metadata": {},
   "outputs": [],
   "source": [
    "def predict(ratings, similarity, type='user'): # default type is 'user'\n",
    "    if type == 'user':\n",
    "        mean_user_rating = ratings.mean(axis=1)\n",
    "        # Use np.newaxis so that mean_user_rating has the same format as ratings\n",
    "        ratings_diff = (ratings - mean_user_rating[:, np.newaxis])\n",
    "        pred = mean_user_rating[:, np.newaxis] + similarity.dot(ratings_diff) / np.array([np.abs(similarity).sum(axis=1)]).T\n",
    "    elif type == 'item':\n",
    "        pred = ratings.dot(similarity) / np.array([np.abs(similarity).sum(axis=1)])\n",
    "    return pred"
   ]
  },
  {
   "cell_type": "markdown",
   "metadata": {},
   "source": [
    "Then can make our predictions!"
   ]
  },
  {
   "cell_type": "code",
   "execution_count": null,
   "metadata": {},
   "outputs": [],
   "source": [
    "item_prediction = predict(test_matrix_small, item_similarity, type='item')\n",
    "user_prediction = predict(test_matrix_small, user_similarity, type='user')"
   ]
  },
  {
   "cell_type": "markdown",
   "metadata": {},
   "source": [
    "### Evaluation\n",
    "\n",
    "How are we going to know if this is a good model?\n",
    "\n",
    "We'll start by just taking the root mean squared error (RMSE) (from sklearn) of predicted values in the test_set (i.e. where we know what the answer should be!).\n",
    "\n",
    "Since we want to compare only predicted ratings that are in the test set, we can filter out all other predictions with ```prediction[ground_truth.nonzero()]```."
   ]
  },
  {
   "cell_type": "code",
   "execution_count": null,
   "metadata": {},
   "outputs": [],
   "source": [
    "from sklearn.metrics import mean_squared_error\n",
    "from math import sqrt\n",
    "\n",
    "def rmse(prediction, ground_truth):\n",
    "    prediction = prediction[ground_truth.nonzero()].flatten()\n",
    "    ground_truth = ground_truth[ground_truth.nonzero()].flatten()\n",
    "    return sqrt(mean_squared_error(prediction, ground_truth))\n",
    "\n",
    "# Call on test set to get error from each approach ('user' or 'item')\n",
    "print(f'User-based CF RMSE: {rmse(user_prediction, test_data_matrix)}')\n",
    "print(f'Item-based CF RMSE: {rmse(item_prediction, test_data_matrix)}')"
   ]
  },
  {
   "cell_type": "markdown",
   "metadata": {},
   "source": [
    "Although memory-based CF is simple to implement, they don't scale very well! (Hence why some of these steps were so computationally expensive). Moreover, they fail to address the classic 'cold-start problem' - i.e. to provide recommendations to a new user with no review/rating history. \n",
    "\n",
    "Conversly, model-based CF methods are scalable and can deal with higher sparsity level than memory-based models. However, they still suffer for new users ('cold-start')."
   ]
  },
  {
   "cell_type": "markdown",
   "metadata": {},
   "source": [
    "## Model-based CF\n",
    "Model-based CF is largely based on 'matrix factorization'. "
   ]
  },
  {
   "cell_type": "markdown",
   "metadata": {},
   "source": [
    "# Using 'surprise' library\n",
    "There is a python library built especially to help build recommender systems called ```surprise```.  \n",
    "It includes several common model-based algorithms including SVD, KNN, and non-negative matrix factorization!  \n",
    "See [here](http://surprise.readthedocs.io/en/stable/getting_started.html#basic-usage) for details."
   ]
  },
  {
   "cell_type": "code",
   "execution_count": null,
   "metadata": {},
   "outputs": [],
   "source": [
    "from surprise import Reader, Dataset"
   ]
  },
  {
   "cell_type": "code",
   "execution_count": null,
   "metadata": {},
   "outputs": [],
   "source": [
    "# First need to create a 'Reader' object to set the scale/limit of the ratings field\n",
    "reader = Reader(rating_scale=(1, 10))\n",
    "\n",
    "# Load the data into a 'Dataset' object directly from the pandas df.\n",
    "# Note: The fields must be in the order: user, item, rating\n",
    "data = Dataset.load_from_df(data3[['userID', 'bookID', 'rating']], reader)"
   ]
  },
  {
   "cell_type": "code",
   "execution_count": null,
   "metadata": {},
   "outputs": [],
   "source": [
    "# Load the models and 'evaluation' method\n",
    "from surprise import SVD, NMF, model_selection, accuracy"
   ]
  },
  {
   "cell_type": "markdown",
   "metadata": {},
   "source": [
    "Note: SVD = Singular Value Decomposition (orthogonal factorization), NMF = Non-negative Matrix Factorization."
   ]
  },
  {
   "cell_type": "markdown",
   "metadata": {},
   "source": [
    "## SVD model"
   ]
  },
  {
   "cell_type": "markdown",
   "metadata": {},
   "source": [
    "**_Using cross-validation_**"
   ]
  },
  {
   "cell_type": "code",
   "execution_count": null,
   "metadata": {},
   "outputs": [],
   "source": [
    "# svd\n",
    "model = SVD()\n",
    "\n",
    "# Run 5-fold cross-validation and print results.\n",
    "# Note: Might want to try using a train/test split instead of cv and see if there is much difference.\n",
    "model_selection.cross_validate(model, data, measures=['RMSE'], cv=5, verbose=True) # use Root Mean Squared Error as metric"
   ]
  },
  {
   "cell_type": "markdown",
   "metadata": {},
   "source": [
    "The SVD model gave a Mean RMSE of 1.6434 after 5-folds, with a fit time of ca. 30 s."
   ]
  },
  {
   "cell_type": "markdown",
   "metadata": {},
   "source": [
    "**_Using test-train split_**"
   ]
  },
  {
   "cell_type": "code",
   "execution_count": null,
   "metadata": {},
   "outputs": [],
   "source": [
    "# set test set to 25%.\n",
    "trainset, testset = model_selection.train_test_split(data, test_size=.25)\n",
    "\n",
    "# Instantiate the SVD model.\n",
    "model = SVD()\n",
    "\n",
    "# Train the algorithm on the training set, and predict ratings for the test set\n",
    "model.fit(trainset)\n",
    "predictions = model.test(testset)\n",
    "\n",
    "# Then compute RMSE\n",
    "accuracy.rmse(predictions)"
   ]
  },
  {
   "cell_type": "markdown",
   "metadata": {},
   "source": [
    "The SVD model using a 75% train-test split gave a RMSE of 1.64017."
   ]
  },
  {
   "cell_type": "markdown",
   "metadata": {},
   "source": [
    "### NMF model"
   ]
  },
  {
   "cell_type": "code",
   "execution_count": null,
   "metadata": {},
   "outputs": [],
   "source": [
    "# nmf\n",
    "model = NMF()\n",
    "# Run 5-fold cross-validation and print results.\n",
    "model_selection.cross_validate(model, data, measures=['RMSE'], cv=5, verbose=True)"
   ]
  },
  {
   "cell_type": "markdown",
   "metadata": {},
   "source": [
    "The NMF model gave a mean RMSE of 2.4073, with a fit time of ca. 60 s. This is much worse than the SVD model."
   ]
  },
  {
   "cell_type": "code",
   "execution_count": null,
   "metadata": {},
   "outputs": [],
   "source": []
  }
 ],
 "metadata": {
  "kernelspec": {
   "display_name": "Python 3",
   "language": "python",
   "name": "python3"
  },
  "language_info": {
   "codemirror_mode": {
    "name": "ipython",
    "version": 3
   },
   "file_extension": ".py",
   "mimetype": "text/x-python",
   "name": "python",
   "nbconvert_exporter": "python",
   "pygments_lexer": "ipython3",
   "version": "3.6.3"
  }
 },
 "nbformat": 4,
 "nbformat_minor": 2
}
